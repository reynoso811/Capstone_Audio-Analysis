{
 "cells": [
  {
   "cell_type": "markdown",
   "metadata": {},
   "source": [
    "# Import libraries"
   ]
  },
  {
   "cell_type": "code",
   "execution_count": 1,
   "metadata": {},
   "outputs": [],
   "source": [
    "import json\n",
    "import numpy as np\n",
    "import pandas as pd\n",
    "from sklearn.model_selection import train_test_split\n",
    "from sklearn.preprocessing import LabelEncoder\n",
    "from tensorflow.keras.utils import to_categorical\n",
    "import tensorflow.keras as keras\n",
    "import matplotlib.pyplot as plt\n",
    "\n"
   ]
  },
  {
   "cell_type": "markdown",
   "metadata": {},
   "source": [
    "## Path to extracted mfccs"
   ]
  },
  {
   "cell_type": "code",
   "execution_count": 28,
   "metadata": {},
   "outputs": [],
   "source": [
    "DATA_PATH = \"/Users/rr/Desktop/Capstone_Project/Notebooks/data_40.json\""
   ]
  },
  {
   "cell_type": "markdown",
   "metadata": {},
   "source": [
    "# Create helper functions "
   ]
  },
  {
   "cell_type": "code",
   "execution_count": 16,
   "metadata": {},
   "outputs": [],
   "source": [
    "def load_data(data_path):\n",
    "    \"\"\"Loads training dataset from json file.\n",
    "        :param data_path (str): Path to json file containing data\n",
    "        :return X (ndarray): Inputs\n",
    "        :return y (ndarray): Targets\n",
    "    \"\"\"\n",
    "\n",
    "    with open(data_path, \"r\") as fp:\n",
    "        data = json.load(fp)\n",
    "\n",
    "    X = np.array(data[\"mfcc\"])\n",
    "    y = np.array(data[\"labels\"])\n",
    "    return X, y"
   ]
  },
  {
   "cell_type": "code",
   "execution_count": 17,
   "metadata": {},
   "outputs": [],
   "source": [
    "def plot_history(history):\n",
    "    \"\"\"Plots accuracy/loss for training/validation set as a function of the epochs\n",
    "        :param history: Training history of model\n",
    "        :return:\n",
    "    \"\"\"\n",
    "\n",
    "    fig, axs = plt.subplots(2, figsize=(20,8))\n",
    "\n",
    "    # create accuracy sublpot\n",
    "    axs[0].plot(history.history[\"accuracy\"], label=\"train accuracy\")\n",
    "    axs[0].plot(history.history[\"val_accuracy\"], label=\"test accuracy\")\n",
    "    axs[0].set_ylabel(\"Accuracy\")\n",
    "    axs[0].legend(loc=\"lower right\")\n",
    "    axs[0].set_title(\"Accuracy eval\")\n",
    "\n",
    "    # create error sublpot\n",
    "    axs[1].plot(history.history[\"loss\"], label=\"train error\")\n",
    "    axs[1].plot(history.history[\"val_loss\"], label=\"test error\")\n",
    "    axs[1].set_ylabel(\"Error\")\n",
    "    axs[1].set_xlabel(\"Epoch\")\n",
    "    axs[1].legend(loc=\"upper right\")\n",
    "    axs[1].set_title(\"Error eval\")\n",
    "\n",
    "    plt.show()"
   ]
  },
  {
   "cell_type": "code",
   "execution_count": 18,
   "metadata": {},
   "outputs": [],
   "source": [
    "def prepare_datasets(test_size, validation_size):\n",
    "    \"\"\"Loads data and splits it into train, validation and test sets.\n",
    "    :param test_size (float): Value in [0, 1] indicating percentage of data set to allocate to test split\n",
    "    :param validation_size (float): Value in [0, 1] indicating percentage of train set to allocate to validation split\n",
    "    :return X_train (ndarray): Input training set\n",
    "    :return X_validation (ndarray): Input validation set\n",
    "    :return X_test (ndarray): Input test set\n",
    "    :return y_train (ndarray): Target training set\n",
    "    :return y_validation (ndarray): Target validation set\n",
    "    :return y_test (ndarray): Target test set\n",
    "    \"\"\"\n",
    "\n",
    "    # load data\n",
    "    X, y = load_data(DATA_PATH)\n",
    "\n",
    "    # create train, validation and test split\n",
    "    X_train, X_test, y_train, y_test = train_test_split(X, y, test_size=test_size)\n",
    "    X_train, X_validation, y_train, y_validation = train_test_split(X_train, y_train, test_size=validation_size)\n",
    "\n",
    "    return X_train, X_validation, X_test, y_train, y_validation, y_test"
   ]
  },
  {
   "cell_type": "markdown",
   "metadata": {},
   "source": [
    "* RNNs can use their internal state (memory) to process sequences of inputs. \n",
    "* In other neural networks, all the inputs are independent of each other. But in RNN, all the inputs are related to each other.\n",
    "* Long Short-Term Memory (LSTM) networks are a modified version of recurrent neural networks, which makes it easier to remember past data in memory. \n",
    "* In an LSTM network, three gates are present:\n",
    "\n",
    "\n",
    "    * input gate - Input gate — discover which value from input should be used to modify the memory.\n",
    "    * forget gate — discover what details to be discarded from the block. It is decided by the sigmoid function. \n",
    "    * output gate — the input and the memory of the block is used to decide the output.\n",
    "\n",
    "\n",
    "* num_units is the dimensionality of the output space. num_units is the number of hidden units whose activations get sent forward to the next time step.\n",
    "\n",
    "* CNN - It is suitable for spatial data such as images.\n",
    "* RNN - Is suitable for temporal data, also called sequential data.\n",
    "\n",
    "CNNs employ filters within convolutional layers to transform data. Whereas, RNNs reuse activation functions from other data points in the sequence to generate the next output in a series.\n",
    "\n"
   ]
  },
  {
   "cell_type": "code",
   "execution_count": 19,
   "metadata": {},
   "outputs": [],
   "source": [
    "def build_model(input_shape):\n",
    "    \"\"\"Generates RNN-LSTM model\n",
    "    :param input_shape (tuple): Shape of input set\n",
    "    :return model: RNN-LSTM model\n",
    "    \"\"\"\n",
    "\n",
    "    # build network topology\n",
    "    model = keras.Sequential()\n",
    "\n",
    "    # 2 LSTM layers\n",
    "    model.add(keras.layers.LSTM(64, input_shape=input_shape, return_sequences=True))\n",
    "    model.add(keras.layers.LSTM(64))\n",
    "\n",
    "    # dense layer\n",
    "    model.add(keras.layers.Dense(64, activation='relu'))\n",
    "    model.add(keras.layers.Dropout(0.3))\n",
    "\n",
    "    # output layer\n",
    "    model.add(keras.layers.Dense(10, activation='softmax'))\n",
    "\n",
    "    return model"
   ]
  },
  {
   "cell_type": "code",
   "execution_count": 29,
   "metadata": {},
   "outputs": [],
   "source": [
    "# get train, validation, test splits\n",
    "\n",
    "X_train, X_validation, X_test, y_train, y_validation, y_test = prepare_datasets(0.25, 0.2)"
   ]
  },
  {
   "cell_type": "code",
   "execution_count": 30,
   "metadata": {},
   "outputs": [
    {
     "data": {
      "text/plain": [
       "(2501, 65, 40)"
      ]
     },
     "execution_count": 30,
     "metadata": {},
     "output_type": "execute_result"
    }
   ],
   "source": [
    "X_train.shape "
   ]
  },
  {
   "cell_type": "code",
   "execution_count": 31,
   "metadata": {},
   "outputs": [],
   "source": [
    "# create network\n",
    "\n",
    "input_shape = (X_train.shape[1], X_train.shape[2]) # 130, 13\n",
    "model = build_model(input_shape)"
   ]
  },
  {
   "cell_type": "code",
   "execution_count": 32,
   "metadata": {},
   "outputs": [],
   "source": [
    "# compile model\n",
    "\n",
    "optimiser = keras.optimizers.Adam(learning_rate=0.0001)\n",
    "model.compile(optimizer=optimiser,\n",
    "loss='sparse_categorical_crossentropy',\n",
    "metrics=['accuracy'])"
   ]
  },
  {
   "cell_type": "code",
   "execution_count": 33,
   "metadata": {},
   "outputs": [
    {
     "name": "stdout",
     "output_type": "stream",
     "text": [
      "Model: \"sequential_2\"\n",
      "_________________________________________________________________\n",
      "Layer (type)                 Output Shape              Param #   \n",
      "=================================================================\n",
      "lstm_4 (LSTM)                (None, 65, 64)            26880     \n",
      "_________________________________________________________________\n",
      "lstm_5 (LSTM)                (None, 64)                33024     \n",
      "_________________________________________________________________\n",
      "dense_4 (Dense)              (None, 64)                4160      \n",
      "_________________________________________________________________\n",
      "dropout_2 (Dropout)          (None, 64)                0         \n",
      "_________________________________________________________________\n",
      "dense_5 (Dense)              (None, 10)                650       \n",
      "=================================================================\n",
      "Total params: 64,714\n",
      "Trainable params: 64,714\n",
      "Non-trainable params: 0\n",
      "_________________________________________________________________\n"
     ]
    }
   ],
   "source": [
    "model.summary()"
   ]
  },
  {
   "cell_type": "code",
   "execution_count": 34,
   "metadata": {},
   "outputs": [
    {
     "name": "stdout",
     "output_type": "stream",
     "text": [
      "Epoch 1/100\n"
     ]
    },
    {
     "name": "stderr",
     "output_type": "stream",
     "text": [
      "2022-02-06 13:33:36.945553: I tensorflow/core/grappler/optimizers/custom_graph_optimizer_registry.cc:112] Plugin optimizer for device_type GPU is enabled.\n",
      "2022-02-06 13:33:37.148709: I tensorflow/core/grappler/optimizers/custom_graph_optimizer_registry.cc:112] Plugin optimizer for device_type GPU is enabled.\n",
      "2022-02-06 13:33:37.248648: I tensorflow/core/grappler/optimizers/custom_graph_optimizer_registry.cc:112] Plugin optimizer for device_type GPU is enabled.\n",
      "2022-02-06 13:33:37.367272: I tensorflow/core/grappler/optimizers/custom_graph_optimizer_registry.cc:112] Plugin optimizer for device_type GPU is enabled.\n",
      "2022-02-06 13:33:37.545644: I tensorflow/core/grappler/optimizers/custom_graph_optimizer_registry.cc:112] Plugin optimizer for device_type GPU is enabled.\n"
     ]
    },
    {
     "name": "stdout",
     "output_type": "stream",
     "text": [
      "79/79 [==============================] - ETA: 0s - loss: 1.9984 - accuracy: 0.4838"
     ]
    },
    {
     "name": "stderr",
     "output_type": "stream",
     "text": [
      "2022-02-06 13:33:41.452873: I tensorflow/core/grappler/optimizers/custom_graph_optimizer_registry.cc:112] Plugin optimizer for device_type GPU is enabled.\n",
      "2022-02-06 13:33:41.530964: I tensorflow/core/grappler/optimizers/custom_graph_optimizer_registry.cc:112] Plugin optimizer for device_type GPU is enabled.\n",
      "2022-02-06 13:33:41.619420: I tensorflow/core/grappler/optimizers/custom_graph_optimizer_registry.cc:112] Plugin optimizer for device_type GPU is enabled.\n"
     ]
    },
    {
     "name": "stdout",
     "output_type": "stream",
     "text": [
      "79/79 [==============================] - 6s 57ms/step - loss: 1.9984 - accuracy: 0.4838 - val_loss: 1.6921 - val_accuracy: 0.7332\n",
      "Epoch 2/100\n",
      "79/79 [==============================] - 3s 44ms/step - loss: 1.2081 - accuracy: 0.6969 - val_loss: 0.6880 - val_accuracy: 0.7220\n",
      "Epoch 3/100\n",
      "79/79 [==============================] - 3s 43ms/step - loss: 0.6493 - accuracy: 0.7153 - val_loss: 0.4772 - val_accuracy: 0.8339\n",
      "Epoch 4/100\n",
      "79/79 [==============================] - 3s 43ms/step - loss: 0.5206 - accuracy: 0.7841 - val_loss: 0.3897 - val_accuracy: 0.8466\n",
      "Epoch 5/100\n",
      "79/79 [==============================] - 3s 43ms/step - loss: 0.4508 - accuracy: 0.8117 - val_loss: 0.3494 - val_accuracy: 0.8498\n",
      "Epoch 6/100\n",
      "79/79 [==============================] - 3s 43ms/step - loss: 0.4021 - accuracy: 0.8389 - val_loss: 0.3047 - val_accuracy: 0.8818\n",
      "Epoch 7/100\n",
      "79/79 [==============================] - 3s 44ms/step - loss: 0.3528 - accuracy: 0.8685 - val_loss: 0.2777 - val_accuracy: 0.8978\n",
      "Epoch 8/100\n",
      "79/79 [==============================] - 3s 44ms/step - loss: 0.3363 - accuracy: 0.8808 - val_loss: 0.2814 - val_accuracy: 0.8914\n",
      "Epoch 9/100\n",
      "79/79 [==============================] - 3s 44ms/step - loss: 0.3349 - accuracy: 0.8756 - val_loss: 0.2807 - val_accuracy: 0.8930\n",
      "Epoch 10/100\n",
      "79/79 [==============================] - 3s 44ms/step - loss: 0.3239 - accuracy: 0.8745 - val_loss: 0.2637 - val_accuracy: 0.8978\n",
      "Epoch 11/100\n",
      "79/79 [==============================] - 3s 44ms/step - loss: 0.2896 - accuracy: 0.8932 - val_loss: 0.2548 - val_accuracy: 0.9010\n",
      "Epoch 12/100\n",
      "79/79 [==============================] - 3s 44ms/step - loss: 0.2694 - accuracy: 0.9008 - val_loss: 0.2467 - val_accuracy: 0.9042\n",
      "Epoch 13/100\n",
      "79/79 [==============================] - 4s 45ms/step - loss: 0.2605 - accuracy: 0.9028 - val_loss: 0.2396 - val_accuracy: 0.9121\n",
      "Epoch 14/100\n",
      "79/79 [==============================] - 4s 45ms/step - loss: 0.2439 - accuracy: 0.9148 - val_loss: 0.2347 - val_accuracy: 0.9058\n",
      "Epoch 15/100\n",
      "79/79 [==============================] - 3s 44ms/step - loss: 0.2447 - accuracy: 0.9108 - val_loss: 0.2200 - val_accuracy: 0.9169\n",
      "Epoch 16/100\n",
      "79/79 [==============================] - 3s 44ms/step - loss: 0.2310 - accuracy: 0.9136 - val_loss: 0.2253 - val_accuracy: 0.9169\n",
      "Epoch 17/100\n",
      "79/79 [==============================] - 3s 44ms/step - loss: 0.2318 - accuracy: 0.9188 - val_loss: 0.2098 - val_accuracy: 0.9169\n",
      "Epoch 18/100\n",
      "79/79 [==============================] - 3s 44ms/step - loss: 0.2108 - accuracy: 0.9288 - val_loss: 0.2042 - val_accuracy: 0.9201\n",
      "Epoch 19/100\n",
      "79/79 [==============================] - 3s 44ms/step - loss: 0.2114 - accuracy: 0.9260 - val_loss: 0.2006 - val_accuracy: 0.9233\n",
      "Epoch 20/100\n",
      "79/79 [==============================] - 3s 44ms/step - loss: 0.2071 - accuracy: 0.9204 - val_loss: 0.1932 - val_accuracy: 0.9217\n",
      "Epoch 21/100\n",
      "79/79 [==============================] - 4s 44ms/step - loss: 0.2082 - accuracy: 0.9276 - val_loss: 0.2038 - val_accuracy: 0.9121\n",
      "Epoch 22/100\n",
      "79/79 [==============================] - 4s 45ms/step - loss: 0.2171 - accuracy: 0.9196 - val_loss: 0.2008 - val_accuracy: 0.9105\n",
      "Epoch 23/100\n",
      "79/79 [==============================] - 4s 44ms/step - loss: 0.2145 - accuracy: 0.9200 - val_loss: 0.1875 - val_accuracy: 0.9201\n",
      "Epoch 24/100\n",
      "79/79 [==============================] - 4s 44ms/step - loss: 0.2047 - accuracy: 0.9280 - val_loss: 0.1952 - val_accuracy: 0.9169\n",
      "Epoch 25/100\n",
      "79/79 [==============================] - 3s 44ms/step - loss: 0.2022 - accuracy: 0.9228 - val_loss: 0.1969 - val_accuracy: 0.9137\n",
      "Epoch 26/100\n",
      "79/79 [==============================] - 4s 45ms/step - loss: 0.1997 - accuracy: 0.9264 - val_loss: 0.2002 - val_accuracy: 0.9121\n",
      "Epoch 27/100\n",
      "79/79 [==============================] - 3s 44ms/step - loss: 0.1910 - accuracy: 0.9328 - val_loss: 0.2101 - val_accuracy: 0.9169\n",
      "Epoch 28/100\n",
      "79/79 [==============================] - 4s 44ms/step - loss: 0.1859 - accuracy: 0.9340 - val_loss: 0.2066 - val_accuracy: 0.9121\n",
      "Epoch 29/100\n",
      "79/79 [==============================] - 4s 44ms/step - loss: 0.1863 - accuracy: 0.9352 - val_loss: 0.2004 - val_accuracy: 0.9137\n",
      "Epoch 30/100\n",
      "79/79 [==============================] - 4s 45ms/step - loss: 0.1932 - accuracy: 0.9260 - val_loss: 0.2061 - val_accuracy: 0.9137\n",
      "Epoch 31/100\n",
      "79/79 [==============================] - 3s 44ms/step - loss: 0.1894 - accuracy: 0.9248 - val_loss: 0.2267 - val_accuracy: 0.9073\n",
      "Epoch 32/100\n",
      "79/79 [==============================] - 4s 45ms/step - loss: 0.1870 - accuracy: 0.9264 - val_loss: 0.2120 - val_accuracy: 0.9185\n",
      "Epoch 33/100\n",
      "79/79 [==============================] - 3s 44ms/step - loss: 0.1862 - accuracy: 0.9300 - val_loss: 0.2034 - val_accuracy: 0.9169\n",
      "Epoch 34/100\n",
      "79/79 [==============================] - 4s 45ms/step - loss: 0.1766 - accuracy: 0.9312 - val_loss: 0.1809 - val_accuracy: 0.9249\n",
      "Epoch 35/100\n",
      "79/79 [==============================] - 3s 44ms/step - loss: 0.1826 - accuracy: 0.9280 - val_loss: 0.1799 - val_accuracy: 0.9281\n",
      "Epoch 36/100\n",
      "79/79 [==============================] - 4s 45ms/step - loss: 0.1864 - accuracy: 0.9280 - val_loss: 0.1881 - val_accuracy: 0.9201\n",
      "Epoch 37/100\n",
      "79/79 [==============================] - 4s 45ms/step - loss: 0.1697 - accuracy: 0.9372 - val_loss: 0.1816 - val_accuracy: 0.9265\n",
      "Epoch 38/100\n",
      "79/79 [==============================] - 4s 45ms/step - loss: 0.1854 - accuracy: 0.9312 - val_loss: 0.1753 - val_accuracy: 0.9249\n",
      "Epoch 39/100\n",
      "79/79 [==============================] - 4s 44ms/step - loss: 0.1624 - accuracy: 0.9364 - val_loss: 0.1698 - val_accuracy: 0.9297\n",
      "Epoch 40/100\n",
      "79/79 [==============================] - 4s 45ms/step - loss: 0.1573 - accuracy: 0.9440 - val_loss: 0.1889 - val_accuracy: 0.9201\n",
      "Epoch 41/100\n",
      "79/79 [==============================] - 3s 44ms/step - loss: 0.1576 - accuracy: 0.9412 - val_loss: 0.1688 - val_accuracy: 0.9329\n",
      "Epoch 42/100\n",
      "79/79 [==============================] - 4s 45ms/step - loss: 0.1636 - accuracy: 0.9336 - val_loss: 0.1773 - val_accuracy: 0.9313\n",
      "Epoch 43/100\n",
      "79/79 [==============================] - 4s 45ms/step - loss: 0.1615 - accuracy: 0.9344 - val_loss: 0.1857 - val_accuracy: 0.9185\n",
      "Epoch 44/100\n",
      "79/79 [==============================] - 4s 45ms/step - loss: 0.1713 - accuracy: 0.9292 - val_loss: 0.1746 - val_accuracy: 0.9265\n",
      "Epoch 45/100\n",
      "79/79 [==============================] - 4s 45ms/step - loss: 0.1623 - accuracy: 0.9348 - val_loss: 0.1702 - val_accuracy: 0.9297\n",
      "Epoch 46/100\n",
      "79/79 [==============================] - 4s 45ms/step - loss: 0.1645 - accuracy: 0.9364 - val_loss: 0.2341 - val_accuracy: 0.9073\n",
      "Epoch 47/100\n",
      "79/79 [==============================] - 4s 45ms/step - loss: 0.1792 - accuracy: 0.9284 - val_loss: 0.1707 - val_accuracy: 0.9345\n",
      "Epoch 48/100\n",
      "79/79 [==============================] - 4s 44ms/step - loss: 0.1637 - accuracy: 0.9372 - val_loss: 0.2066 - val_accuracy: 0.9058\n",
      "Epoch 49/100\n",
      "79/79 [==============================] - 4s 45ms/step - loss: 0.1611 - accuracy: 0.9404 - val_loss: 0.1989 - val_accuracy: 0.9153\n",
      "Epoch 50/100\n",
      "79/79 [==============================] - 4s 45ms/step - loss: 0.1602 - accuracy: 0.9396 - val_loss: 0.1897 - val_accuracy: 0.9265\n",
      "Epoch 51/100\n",
      "79/79 [==============================] - 4s 46ms/step - loss: 0.1640 - accuracy: 0.9372 - val_loss: 0.1831 - val_accuracy: 0.9281\n",
      "Epoch 52/100\n",
      "79/79 [==============================] - 4s 45ms/step - loss: 0.1549 - accuracy: 0.9392 - val_loss: 0.2079 - val_accuracy: 0.9185\n",
      "Epoch 53/100\n",
      "79/79 [==============================] - 4s 45ms/step - loss: 0.1647 - accuracy: 0.9396 - val_loss: 0.2016 - val_accuracy: 0.9185\n",
      "Epoch 54/100\n",
      "79/79 [==============================] - 4s 45ms/step - loss: 0.1704 - accuracy: 0.9368 - val_loss: 0.2088 - val_accuracy: 0.9153\n",
      "Epoch 55/100\n",
      "79/79 [==============================] - 4s 45ms/step - loss: 0.1663 - accuracy: 0.9408 - val_loss: 0.2441 - val_accuracy: 0.8994\n",
      "Epoch 56/100\n",
      "79/79 [==============================] - 4s 45ms/step - loss: 0.1879 - accuracy: 0.9256 - val_loss: 0.1980 - val_accuracy: 0.9233\n",
      "Epoch 57/100\n",
      "79/79 [==============================] - 4s 45ms/step - loss: 0.1949 - accuracy: 0.9252 - val_loss: 0.1954 - val_accuracy: 0.9233\n",
      "Epoch 58/100\n",
      "79/79 [==============================] - 4s 45ms/step - loss: 0.1756 - accuracy: 0.9300 - val_loss: 0.2103 - val_accuracy: 0.9153\n",
      "Epoch 59/100\n",
      "79/79 [==============================] - 4s 47ms/step - loss: 0.1677 - accuracy: 0.9340 - val_loss: 0.2031 - val_accuracy: 0.9249\n",
      "Epoch 60/100\n",
      "79/79 [==============================] - 4s 45ms/step - loss: 0.1690 - accuracy: 0.9388 - val_loss: 0.1912 - val_accuracy: 0.9201\n",
      "Epoch 61/100\n",
      "79/79 [==============================] - 4s 47ms/step - loss: 0.1713 - accuracy: 0.9316 - val_loss: 0.2295 - val_accuracy: 0.9137\n",
      "Epoch 62/100\n",
      "79/79 [==============================] - 4s 45ms/step - loss: 0.1633 - accuracy: 0.9372 - val_loss: 0.2317 - val_accuracy: 0.9105\n",
      "Epoch 63/100\n",
      "79/79 [==============================] - 4s 45ms/step - loss: 0.1782 - accuracy: 0.9332 - val_loss: 0.2340 - val_accuracy: 0.9042\n",
      "Epoch 64/100\n",
      "79/79 [==============================] - 4s 45ms/step - loss: 0.1839 - accuracy: 0.9296 - val_loss: 0.1976 - val_accuracy: 0.9297\n",
      "Epoch 65/100\n",
      "79/79 [==============================] - 4s 45ms/step - loss: 0.1672 - accuracy: 0.9348 - val_loss: 0.2018 - val_accuracy: 0.9201\n",
      "Epoch 66/100\n",
      "79/79 [==============================] - 4s 46ms/step - loss: 0.1689 - accuracy: 0.9380 - val_loss: 0.1915 - val_accuracy: 0.9153\n",
      "Epoch 67/100\n",
      "79/79 [==============================] - 4s 46ms/step - loss: 0.1744 - accuracy: 0.9324 - val_loss: 0.1968 - val_accuracy: 0.9169\n",
      "Epoch 68/100\n",
      "79/79 [==============================] - 4s 46ms/step - loss: 0.1589 - accuracy: 0.9432 - val_loss: 0.1982 - val_accuracy: 0.9249\n",
      "Epoch 69/100\n",
      "79/79 [==============================] - 4s 45ms/step - loss: 0.1631 - accuracy: 0.9412 - val_loss: 0.2189 - val_accuracy: 0.9105\n",
      "Epoch 70/100\n",
      "79/79 [==============================] - 4s 46ms/step - loss: 0.1613 - accuracy: 0.9396 - val_loss: 0.1886 - val_accuracy: 0.9249\n",
      "Epoch 71/100\n",
      "79/79 [==============================] - 4s 45ms/step - loss: 0.1560 - accuracy: 0.9408 - val_loss: 0.1829 - val_accuracy: 0.9313\n",
      "Epoch 72/100\n",
      "79/79 [==============================] - 4s 45ms/step - loss: 0.1590 - accuracy: 0.9444 - val_loss: 0.1752 - val_accuracy: 0.9361\n",
      "Epoch 73/100\n",
      "79/79 [==============================] - 4s 45ms/step - loss: 0.1442 - accuracy: 0.9472 - val_loss: 0.1769 - val_accuracy: 0.9281\n",
      "Epoch 74/100\n",
      "79/79 [==============================] - 4s 45ms/step - loss: 0.1498 - accuracy: 0.9492 - val_loss: 0.1788 - val_accuracy: 0.9361\n",
      "Epoch 75/100\n",
      "79/79 [==============================] - 4s 46ms/step - loss: 0.1306 - accuracy: 0.9540 - val_loss: 0.1681 - val_accuracy: 0.9329\n",
      "Epoch 76/100\n",
      "79/79 [==============================] - 4s 45ms/step - loss: 0.1258 - accuracy: 0.9524 - val_loss: 0.1685 - val_accuracy: 0.9377\n",
      "Epoch 77/100\n",
      "79/79 [==============================] - 4s 47ms/step - loss: 0.1415 - accuracy: 0.9464 - val_loss: 0.1868 - val_accuracy: 0.9265\n",
      "Epoch 78/100\n",
      "79/79 [==============================] - 4s 46ms/step - loss: 0.1316 - accuracy: 0.9548 - val_loss: 0.1739 - val_accuracy: 0.9265\n",
      "Epoch 79/100\n",
      "79/79 [==============================] - 4s 46ms/step - loss: 0.1649 - accuracy: 0.9424 - val_loss: 0.2009 - val_accuracy: 0.9201\n",
      "Epoch 80/100\n",
      "79/79 [==============================] - 4s 46ms/step - loss: 0.1505 - accuracy: 0.9432 - val_loss: 0.1600 - val_accuracy: 0.9441\n",
      "Epoch 81/100\n",
      "79/79 [==============================] - 4s 46ms/step - loss: 0.1409 - accuracy: 0.9460 - val_loss: 0.1641 - val_accuracy: 0.9361\n",
      "Epoch 82/100\n",
      "79/79 [==============================] - 4s 46ms/step - loss: 0.1276 - accuracy: 0.9512 - val_loss: 0.1531 - val_accuracy: 0.9441\n",
      "Epoch 83/100\n",
      "79/79 [==============================] - 4s 46ms/step - loss: 0.1248 - accuracy: 0.9536 - val_loss: 0.1651 - val_accuracy: 0.9425\n",
      "Epoch 84/100\n",
      "79/79 [==============================] - 4s 47ms/step - loss: 0.1406 - accuracy: 0.9484 - val_loss: 0.1682 - val_accuracy: 0.9393\n",
      "Epoch 85/100\n",
      "79/79 [==============================] - 4s 47ms/step - loss: 0.1527 - accuracy: 0.9412 - val_loss: 0.1549 - val_accuracy: 0.9457\n",
      "Epoch 86/100\n",
      "79/79 [==============================] - 4s 46ms/step - loss: 0.1235 - accuracy: 0.9568 - val_loss: 0.1590 - val_accuracy: 0.9377\n",
      "Epoch 87/100\n",
      "79/79 [==============================] - 4s 45ms/step - loss: 0.1233 - accuracy: 0.9556 - val_loss: 0.1517 - val_accuracy: 0.9393\n",
      "Epoch 88/100\n",
      "79/79 [==============================] - 4s 46ms/step - loss: 0.1378 - accuracy: 0.9484 - val_loss: 0.1595 - val_accuracy: 0.9425\n",
      "Epoch 89/100\n",
      "79/79 [==============================] - 4s 46ms/step - loss: 0.1381 - accuracy: 0.9520 - val_loss: 0.1651 - val_accuracy: 0.9393\n",
      "Epoch 90/100\n",
      "79/79 [==============================] - 4s 46ms/step - loss: 0.1380 - accuracy: 0.9436 - val_loss: 0.1511 - val_accuracy: 0.9441\n",
      "Epoch 91/100\n",
      "79/79 [==============================] - 4s 46ms/step - loss: 0.1352 - accuracy: 0.9472 - val_loss: 0.1592 - val_accuracy: 0.9393\n",
      "Epoch 92/100\n",
      "79/79 [==============================] - 4s 46ms/step - loss: 0.1394 - accuracy: 0.9480 - val_loss: 0.1271 - val_accuracy: 0.9521\n",
      "Epoch 93/100\n",
      "79/79 [==============================] - 4s 46ms/step - loss: 0.1255 - accuracy: 0.9524 - val_loss: 0.1388 - val_accuracy: 0.9473\n",
      "Epoch 94/100\n",
      "79/79 [==============================] - 4s 46ms/step - loss: 0.1201 - accuracy: 0.9552 - val_loss: 0.1272 - val_accuracy: 0.9505\n",
      "Epoch 95/100\n",
      "79/79 [==============================] - 4s 45ms/step - loss: 0.1421 - accuracy: 0.9432 - val_loss: 0.1544 - val_accuracy: 0.9409\n",
      "Epoch 96/100\n",
      "79/79 [==============================] - 4s 46ms/step - loss: 0.2928 - accuracy: 0.8764 - val_loss: 0.2156 - val_accuracy: 0.9297\n",
      "Epoch 97/100\n",
      "79/79 [==============================] - 4s 46ms/step - loss: 0.1800 - accuracy: 0.9260 - val_loss: 0.1579 - val_accuracy: 0.9409\n",
      "Epoch 98/100\n",
      "79/79 [==============================] - 4s 46ms/step - loss: 0.1529 - accuracy: 0.9436 - val_loss: 0.1415 - val_accuracy: 0.9505\n",
      "Epoch 99/100\n",
      "79/79 [==============================] - 4s 46ms/step - loss: 0.1385 - accuracy: 0.9492 - val_loss: 0.1499 - val_accuracy: 0.9441\n",
      "Epoch 100/100\n",
      "79/79 [==============================] - 4s 46ms/step - loss: 0.1441 - accuracy: 0.9504 - val_loss: 0.1494 - val_accuracy: 0.9457\n"
     ]
    }
   ],
   "source": [
    "# train model\n",
    "\n",
    "history = model.fit(X_train, y_train, validation_data=(X_validation, y_validation), batch_size=32, epochs=100)\n"
   ]
  },
  {
   "cell_type": "code",
   "execution_count": 35,
   "metadata": {},
   "outputs": [
    {
     "data": {
      "image/png": "[encoded data removed]",
      "text/plain": [
       "<Figure size 1440x576 with 2 Axes>"
      ]
     },
     "metadata": {
      "needs_background": "light"
     },
     "output_type": "display_data"
    }
   ],
   "source": [
    "# plot accuracy/error for training and validation\n",
    "\n",
    "plot_history(history)"
   ]
  },
  {
   "cell_type": "code",
   "execution_count": 36,
   "metadata": {},
   "outputs": [
    {
     "name": "stdout",
     "output_type": "stream",
     "text": [
      "33/33 - 1s - loss: 0.1766 - accuracy: 0.9243\n",
      "\n",
      "Test accuracy: 0.9242569804191589\n"
     ]
    }
   ],
   "source": [
    "# evaluate model on test set\n",
    "\n",
    "test_loss, test_acc = model.evaluate(X_test, y_test, verbose=2)\n",
    "print('\\nTest accuracy:', test_acc)"
   ]
  },
  {
   "cell_type": "code",
   "execution_count": null,
   "metadata": {},
   "outputs": [],
   "source": []
  }
 ],
 "metadata": {
  "interpreter": {
   "hash": "656066ee1be8e6b42526d551a6c2e826f46a445789699d535b17c2aeafe1d843"
  },
  "kernelspec": {
   "display_name": "Python 3.9.9 64-bit ('ml': conda)",
   "language": "python",
   "name": "python3"
  },
  "language_info": {
   "codemirror_mode": {
    "name": "ipython",
    "version": 3
   },
   "file_extension": ".py",
   "mimetype": "text/x-python",
   "name": "python",
   "nbconvert_exporter": "python",
   "pygments_lexer": "ipython3",
   "version": "3.9.9"
  },
  "orig_nbformat": 4
 },
 "nbformat": 4,
 "nbformat_minor": 2
}
