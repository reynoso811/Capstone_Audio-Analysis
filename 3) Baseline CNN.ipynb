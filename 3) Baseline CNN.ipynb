{
 "cells": [
  {
   "cell_type": "code",
   "execution_count": 9,
   "metadata": {},
   "outputs": [],
   "source": [
    "import numpy as np\n",
    "import pandas as pd\n",
    "import json\n",
    "from sklearn.model_selection import train_test_split\n",
    "from sklearn.preprocessing import LabelEncoder\n",
    "from tensorflow.keras.utils import to_categorical\n",
    "import tensorflow.keras as keras\n",
    "import matplotlib.pyplot as plt"
   ]
  },
  {
   "cell_type": "code",
   "execution_count": 54,
   "metadata": {},
   "outputs": [],
   "source": [
    "DATA_PATH = \"/Users/rr/Desktop/Capstone_Project/Notebooks/data_40.json\""
   ]
  },
  {
   "cell_type": "code",
   "execution_count": 55,
   "metadata": {},
   "outputs": [],
   "source": [
    "def load_data(data_path):\n",
    "    \"\"\"Loads training dataset from json file.\n",
    "        :param data_path (str): Path to json file containing data\n",
    "        :return X (ndarray): Inputs\n",
    "        :return y (ndarray): Targets\n",
    "    \"\"\"\n",
    "\n",
    "    with open(data_path, \"r\") as fp:\n",
    "        data = json.load(fp)\n",
    "\n",
    "    X = np.array(data[\"mfcc\"])\n",
    "    y = np.array(data[\"labels\"])\n",
    "    return X, y"
   ]
  },
  {
   "cell_type": "code",
   "execution_count": 56,
   "metadata": {},
   "outputs": [],
   "source": [
    "def plot_history(history):\n",
    "    \"\"\"Plots accuracy/loss for training/validation set as a function of the epochs\n",
    "        :param history: Training history of model\n",
    "        :return:\n",
    "    \"\"\"\n",
    "\n",
    "    fig, axs = plt.subplots(2,figsize=(20,8))\n",
    "\n",
    "    # create accuracy sublpot\n",
    "    axs[0].plot(history.history[\"accuracy\"], label=\"train accuracy\")\n",
    "    axs[0].plot(history.history[\"val_accuracy\"], label=\"test accuracy\")\n",
    "    axs[0].set_ylabel(\"Accuracy\")\n",
    "    axs[0].legend(loc=\"lower right\")\n",
    "    axs[0].set_title(\"Accuracy eval\")\n",
    "\n",
    "    # create error sublpot\n",
    "    axs[1].plot(history.history[\"loss\"], label=\"train error\")\n",
    "    axs[1].plot(history.history[\"val_loss\"], label=\"test error\")\n",
    "    axs[1].set_ylabel(\"Error\")\n",
    "    axs[1].set_xlabel(\"Epoch\")\n",
    "    axs[1].legend(loc=\"upper right\")\n",
    "    axs[1].set_title(\"Error eval\")\n",
    "    \n",
    "    plt.show()"
   ]
  },
  {
   "cell_type": "code",
   "execution_count": 57,
   "metadata": {},
   "outputs": [],
   "source": [
    "def prepare_datasets(test_size, validation_size):\n",
    "    \"\"\"Loads data and splits it into train, validation and test sets.\n",
    "    :param test_size (float): Value in [0, 1] indicating percentage of data set to allocate to test split\n",
    "    :param validation_size (float): Value in [0, 1] indicating percentage of train set to allocate to validation split\n",
    "    :return X_train (ndarray): Input training set\n",
    "    :return X_validation (ndarray): Input validation set\n",
    "    :return X_test (ndarray): Input test set\n",
    "    :return y_train (ndarray): Target training set\n",
    "    :return y_validation (ndarray): Target validation set\n",
    "    :return y_test (ndarray): Target test set\n",
    "    \"\"\"\n",
    "\n",
    "    # load data\n",
    "    X, y = load_data(DATA_PATH)\n",
    "\n",
    "    # create train, validation and test split\n",
    "    X_train, X_test, y_train, y_test = train_test_split(X, y, test_size=test_size)\n",
    "    X_train, X_validation, y_train, y_validation = train_test_split(X_train, y_train, test_size=validation_size)\n",
    "\n",
    "    # add an axis to input sets\n",
    "    X_train = X_train[..., np.newaxis]\n",
    "    X_validation = X_validation[..., np.newaxis]\n",
    "    X_test = X_test[..., np.newaxis]\n",
    "\n",
    "    return X_train, X_validation, X_test, y_train, y_validation, y_test"
   ]
  },
  {
   "cell_type": "code",
   "execution_count": 58,
   "metadata": {},
   "outputs": [],
   "source": [
    "def build_model(input_shape):\n",
    "    \"\"\"Generates CNN model\n",
    "    :param input_shape (tuple): Shape of input set\n",
    "    :return model: CNN model\n",
    "    \"\"\"\n",
    "\n",
    "    # build network topology\n",
    "    model = keras.Sequential()\n",
    "\n",
    "    # 1st conv layer\n",
    "    model.add(keras.layers.Conv2D(32, (3, 3), activation='relu', input_shape=input_shape))\n",
    "    model.add(keras.layers.MaxPooling2D((3, 3), strides=(2, 2), padding='same'))\n",
    "    model.add(keras.layers.BatchNormalization())\n",
    "\n",
    "    # 2nd conv layer\n",
    "    model.add(keras.layers.Conv2D(32, (3, 3), activation='relu'))\n",
    "    model.add(keras.layers.MaxPooling2D((3, 3), strides=(2, 2), padding='same'))\n",
    "    model.add(keras.layers.BatchNormalization())\n",
    "\n",
    "    # 3rd conv layer\n",
    "    model.add(keras.layers.Conv2D(32, (2, 2), activation='relu'))\n",
    "    model.add(keras.layers.MaxPooling2D((2, 2), strides=(2, 2), padding='same'))\n",
    "    model.add(keras.layers.BatchNormalization())\n",
    "\n",
    "    # flatten output and feed it into dense layer\n",
    "    model.add(keras.layers.Flatten())\n",
    "    model.add(keras.layers.Dense(64, activation='relu'))\n",
    "    model.add(keras.layers.Dropout(0.3))\n",
    "\n",
    "    # output layer\n",
    "    model.add(keras.layers.Dense(10, activation='softmax'))\n",
    "\n",
    "    return model"
   ]
  },
  {
   "cell_type": "code",
   "execution_count": 59,
   "metadata": {},
   "outputs": [],
   "source": [
    "def predict(model, X, y):\n",
    "    \"\"\"Predict a single sample using the trained model\n",
    "    :param model: Trained classifier\n",
    "    :param X: Input data\n",
    "    :param y (int): Target\n",
    "    \"\"\"\n",
    "\n",
    "    # add a dimension to input data for sample - model.predict() expects a 4d array in this case\n",
    "    X = X[np.newaxis, ...] # array shape (1, 130, 13, 1)\n",
    "\n",
    "    # perform prediction\n",
    "    prediction = model.predict(X)\n",
    "\n",
    "    # get index with max value\n",
    "    predicted_index = np.argmax(prediction, axis=1)\n",
    "\n",
    "    print(\"Target: {}, Predicted label: {}\".format(y, predicted_index))\n"
   ]
  },
  {
   "cell_type": "code",
   "execution_count": 60,
   "metadata": {},
   "outputs": [],
   "source": [
    "# get train, validation, test splits\n",
    "\n",
    "X_train, X_validation, X_test, y_train, y_validation, y_test = prepare_datasets(0.25, 0.2)"
   ]
  },
  {
   "cell_type": "code",
   "execution_count": 61,
   "metadata": {},
   "outputs": [],
   "source": [
    "# create network\n",
    "\n",
    "input_shape = (X_train.shape[1], X_train.shape[2], 1)\n",
    "model = build_model(input_shape)"
   ]
  },
  {
   "cell_type": "code",
   "execution_count": 62,
   "metadata": {},
   "outputs": [
    {
     "name": "stdout",
     "output_type": "stream",
     "text": [
      "Model: \"sequential_2\"\n",
      "_________________________________________________________________\n",
      "Layer (type)                 Output Shape              Param #   \n",
      "=================================================================\n",
      "conv2d_6 (Conv2D)            (None, 63, 38, 32)        320       \n",
      "_________________________________________________________________\n",
      "max_pooling2d_6 (MaxPooling2 (None, 32, 19, 32)        0         \n",
      "_________________________________________________________________\n",
      "batch_normalization_6 (Batch (None, 32, 19, 32)        128       \n",
      "_________________________________________________________________\n",
      "conv2d_7 (Conv2D)            (None, 30, 17, 32)        9248      \n",
      "_________________________________________________________________\n",
      "max_pooling2d_7 (MaxPooling2 (None, 15, 9, 32)         0         \n",
      "_________________________________________________________________\n",
      "batch_normalization_7 (Batch (None, 15, 9, 32)         128       \n",
      "_________________________________________________________________\n",
      "conv2d_8 (Conv2D)            (None, 14, 8, 32)         4128      \n",
      "_________________________________________________________________\n",
      "max_pooling2d_8 (MaxPooling2 (None, 7, 4, 32)          0         \n",
      "_________________________________________________________________\n",
      "batch_normalization_8 (Batch (None, 7, 4, 32)          128       \n",
      "_________________________________________________________________\n",
      "flatten_2 (Flatten)          (None, 896)               0         \n",
      "_________________________________________________________________\n",
      "dense_4 (Dense)              (None, 64)                57408     \n",
      "_________________________________________________________________\n",
      "dropout_2 (Dropout)          (None, 64)                0         \n",
      "_________________________________________________________________\n",
      "dense_5 (Dense)              (None, 10)                650       \n",
      "=================================================================\n",
      "Total params: 72,138\n",
      "Trainable params: 71,946\n",
      "Non-trainable params: 192\n",
      "_________________________________________________________________\n"
     ]
    }
   ],
   "source": [
    "# compile model\n",
    "\n",
    "optimiser = keras.optimizers.Adam(learning_rate=0.0001)\n",
    "model.compile(optimizer=optimiser,\n",
    "loss='sparse_categorical_crossentropy',\n",
    "metrics=['accuracy'])\n",
    "\n",
    "model.summary()"
   ]
  },
  {
   "cell_type": "code",
   "execution_count": 66,
   "metadata": {},
   "outputs": [
    {
     "name": "stdout",
     "output_type": "stream",
     "text": [
      "Epoch 1/100\n",
      "79/79 [==============================] - 1s 16ms/step - loss: 0.0126 - accuracy: 0.9976 - val_loss: 0.0876 - val_accuracy: 0.9696\n",
      "Epoch 2/100\n",
      "79/79 [==============================] - 1s 15ms/step - loss: 0.0106 - accuracy: 0.9984 - val_loss: 0.0720 - val_accuracy: 0.9712\n",
      "Epoch 3/100\n",
      "79/79 [==============================] - 1s 15ms/step - loss: 0.0123 - accuracy: 0.9964 - val_loss: 0.0775 - val_accuracy: 0.9712\n",
      "Epoch 4/100\n",
      "79/79 [==============================] - 1s 16ms/step - loss: 0.0126 - accuracy: 0.9980 - val_loss: 0.0679 - val_accuracy: 0.9712\n",
      "Epoch 5/100\n",
      "79/79 [==============================] - 1s 15ms/step - loss: 0.0118 - accuracy: 0.9976 - val_loss: 0.0941 - val_accuracy: 0.9696\n",
      "Epoch 6/100\n",
      "79/79 [==============================] - 1s 15ms/step - loss: 0.0093 - accuracy: 0.9984 - val_loss: 0.0694 - val_accuracy: 0.9712\n",
      "Epoch 7/100\n",
      "79/79 [==============================] - 1s 16ms/step - loss: 0.0100 - accuracy: 0.9984 - val_loss: 0.0791 - val_accuracy: 0.9696\n",
      "Epoch 8/100\n",
      "79/79 [==============================] - 1s 16ms/step - loss: 0.0112 - accuracy: 0.9984 - val_loss: 0.0751 - val_accuracy: 0.9760\n",
      "Epoch 9/100\n",
      "79/79 [==============================] - 1s 15ms/step - loss: 0.0142 - accuracy: 0.9964 - val_loss: 0.0825 - val_accuracy: 0.9712\n",
      "Epoch 10/100\n",
      "79/79 [==============================] - 1s 15ms/step - loss: 0.0195 - accuracy: 0.9948 - val_loss: 0.0646 - val_accuracy: 0.9728\n",
      "Epoch 11/100\n",
      "79/79 [==============================] - 1s 16ms/step - loss: 0.0120 - accuracy: 0.9976 - val_loss: 0.0855 - val_accuracy: 0.9681\n",
      "Epoch 12/100\n",
      "79/79 [==============================] - 1s 15ms/step - loss: 0.0066 - accuracy: 0.9988 - val_loss: 0.0700 - val_accuracy: 0.9712\n",
      "Epoch 13/100\n",
      "79/79 [==============================] - 1s 15ms/step - loss: 0.0103 - accuracy: 0.9972 - val_loss: 0.0734 - val_accuracy: 0.9760\n",
      "Epoch 14/100\n",
      "79/79 [==============================] - 1s 15ms/step - loss: 0.0100 - accuracy: 0.9988 - val_loss: 0.0813 - val_accuracy: 0.9728\n",
      "Epoch 15/100\n",
      "79/79 [==============================] - 1s 15ms/step - loss: 0.0058 - accuracy: 0.9988 - val_loss: 0.0646 - val_accuracy: 0.9776\n",
      "Epoch 16/100\n",
      "79/79 [==============================] - 1s 15ms/step - loss: 0.0067 - accuracy: 0.9988 - val_loss: 0.0690 - val_accuracy: 0.9760\n",
      "Epoch 17/100\n",
      "79/79 [==============================] - 1s 15ms/step - loss: 0.0049 - accuracy: 1.0000 - val_loss: 0.0635 - val_accuracy: 0.9776\n",
      "Epoch 18/100\n",
      "79/79 [==============================] - 1s 15ms/step - loss: 0.0099 - accuracy: 0.9976 - val_loss: 0.0763 - val_accuracy: 0.9712\n",
      "Epoch 19/100\n",
      "79/79 [==============================] - 1s 15ms/step - loss: 0.0092 - accuracy: 0.9972 - val_loss: 0.0650 - val_accuracy: 0.9744\n",
      "Epoch 20/100\n",
      "79/79 [==============================] - 1s 15ms/step - loss: 0.0059 - accuracy: 0.9988 - val_loss: 0.0612 - val_accuracy: 0.9776\n",
      "Epoch 21/100\n",
      "79/79 [==============================] - 1s 16ms/step - loss: 0.0056 - accuracy: 0.9992 - val_loss: 0.0539 - val_accuracy: 0.9760\n",
      "Epoch 22/100\n",
      "79/79 [==============================] - 1s 15ms/step - loss: 0.0142 - accuracy: 0.9960 - val_loss: 0.0599 - val_accuracy: 0.9776\n",
      "Epoch 23/100\n",
      "79/79 [==============================] - 1s 15ms/step - loss: 0.0048 - accuracy: 0.9996 - val_loss: 0.0524 - val_accuracy: 0.9824\n",
      "Epoch 24/100\n",
      "79/79 [==============================] - 1s 15ms/step - loss: 0.0052 - accuracy: 0.9988 - val_loss: 0.0827 - val_accuracy: 0.9744\n",
      "Epoch 25/100\n",
      "79/79 [==============================] - 1s 15ms/step - loss: 0.0031 - accuracy: 1.0000 - val_loss: 0.0549 - val_accuracy: 0.9776\n",
      "Epoch 26/100\n",
      "79/79 [==============================] - 1s 14ms/step - loss: 0.0042 - accuracy: 0.9992 - val_loss: 0.0850 - val_accuracy: 0.9744\n",
      "Epoch 27/100\n",
      "79/79 [==============================] - 1s 16ms/step - loss: 0.0037 - accuracy: 0.9996 - val_loss: 0.0781 - val_accuracy: 0.9760\n",
      "Epoch 28/100\n",
      "79/79 [==============================] - 1s 16ms/step - loss: 0.0042 - accuracy: 0.9992 - val_loss: 0.0974 - val_accuracy: 0.9696\n",
      "Epoch 29/100\n",
      "79/79 [==============================] - 1s 15ms/step - loss: 0.0030 - accuracy: 0.9992 - val_loss: 0.0581 - val_accuracy: 0.9776\n",
      "Epoch 30/100\n",
      "79/79 [==============================] - 1s 15ms/step - loss: 0.0050 - accuracy: 0.9992 - val_loss: 0.0801 - val_accuracy: 0.9696\n",
      "Epoch 31/100\n",
      "79/79 [==============================] - 1s 15ms/step - loss: 0.0034 - accuracy: 0.9996 - val_loss: 0.0793 - val_accuracy: 0.9760\n",
      "Epoch 32/100\n",
      "79/79 [==============================] - 1s 15ms/step - loss: 0.0032 - accuracy: 0.9992 - val_loss: 0.0697 - val_accuracy: 0.9728\n",
      "Epoch 33/100\n",
      "79/79 [==============================] - 1s 15ms/step - loss: 0.0024 - accuracy: 1.0000 - val_loss: 0.0632 - val_accuracy: 0.9728\n",
      "Epoch 34/100\n",
      "79/79 [==============================] - 1s 15ms/step - loss: 0.0035 - accuracy: 0.9996 - val_loss: 0.1189 - val_accuracy: 0.9712\n",
      "Epoch 35/100\n",
      "79/79 [==============================] - 1s 15ms/step - loss: 0.0022 - accuracy: 1.0000 - val_loss: 0.0823 - val_accuracy: 0.9776\n",
      "Epoch 36/100\n",
      "79/79 [==============================] - 1s 15ms/step - loss: 0.0017 - accuracy: 1.0000 - val_loss: 0.0683 - val_accuracy: 0.9744\n",
      "Epoch 37/100\n",
      "79/79 [==============================] - 1s 16ms/step - loss: 0.0039 - accuracy: 0.9988 - val_loss: 0.0768 - val_accuracy: 0.9760\n",
      "Epoch 38/100\n",
      "79/79 [==============================] - 1s 15ms/step - loss: 0.0050 - accuracy: 0.9992 - val_loss: 0.0713 - val_accuracy: 0.9696\n",
      "Epoch 39/100\n",
      "79/79 [==============================] - 1s 15ms/step - loss: 0.0030 - accuracy: 0.9992 - val_loss: 0.1105 - val_accuracy: 0.9681\n",
      "Epoch 40/100\n",
      "79/79 [==============================] - 1s 15ms/step - loss: 0.0043 - accuracy: 0.9984 - val_loss: 0.0892 - val_accuracy: 0.9696\n",
      "Epoch 41/100\n",
      "79/79 [==============================] - 1s 15ms/step - loss: 0.0224 - accuracy: 0.9928 - val_loss: 0.0662 - val_accuracy: 0.9744\n",
      "Epoch 42/100\n",
      "79/79 [==============================] - 1s 16ms/step - loss: 0.0031 - accuracy: 0.9996 - val_loss: 0.0749 - val_accuracy: 0.9760\n",
      "Epoch 43/100\n",
      "79/79 [==============================] - 1s 15ms/step - loss: 0.0036 - accuracy: 0.9992 - val_loss: 0.0577 - val_accuracy: 0.9760\n",
      "Epoch 44/100\n",
      "79/79 [==============================] - 1s 15ms/step - loss: 0.0040 - accuracy: 0.9996 - val_loss: 0.0759 - val_accuracy: 0.9776\n",
      "Epoch 45/100\n",
      "79/79 [==============================] - 1s 15ms/step - loss: 0.0036 - accuracy: 0.9988 - val_loss: 0.0603 - val_accuracy: 0.9760\n",
      "Epoch 46/100\n",
      "79/79 [==============================] - 1s 15ms/step - loss: 0.0089 - accuracy: 0.9976 - val_loss: 0.0539 - val_accuracy: 0.9808\n",
      "Epoch 47/100\n",
      "79/79 [==============================] - 1s 15ms/step - loss: 0.0045 - accuracy: 0.9980 - val_loss: 0.0741 - val_accuracy: 0.9760\n",
      "Epoch 48/100\n",
      "79/79 [==============================] - 1s 15ms/step - loss: 0.0025 - accuracy: 1.0000 - val_loss: 0.0664 - val_accuracy: 0.9856\n",
      "Epoch 49/100\n",
      "79/79 [==============================] - 1s 15ms/step - loss: 0.0023 - accuracy: 1.0000 - val_loss: 0.0597 - val_accuracy: 0.9792\n",
      "Epoch 50/100\n",
      "79/79 [==============================] - 1s 15ms/step - loss: 0.0025 - accuracy: 0.9988 - val_loss: 0.0548 - val_accuracy: 0.9808\n",
      "Epoch 51/100\n",
      "79/79 [==============================] - 1s 14ms/step - loss: 0.0025 - accuracy: 0.9996 - val_loss: 0.0487 - val_accuracy: 0.9776\n",
      "Epoch 52/100\n",
      "79/79 [==============================] - 1s 15ms/step - loss: 0.0013 - accuracy: 1.0000 - val_loss: 0.0603 - val_accuracy: 0.9808\n",
      "Epoch 53/100\n",
      "79/79 [==============================] - 1s 15ms/step - loss: 0.0015 - accuracy: 1.0000 - val_loss: 0.0618 - val_accuracy: 0.9776\n",
      "Epoch 54/100\n",
      "79/79 [==============================] - 1s 15ms/step - loss: 0.0012 - accuracy: 1.0000 - val_loss: 0.0501 - val_accuracy: 0.9792\n",
      "Epoch 55/100\n",
      "79/79 [==============================] - 1s 15ms/step - loss: 0.0014 - accuracy: 1.0000 - val_loss: 0.0563 - val_accuracy: 0.9776\n",
      "Epoch 56/100\n",
      "79/79 [==============================] - 1s 15ms/step - loss: 0.0011 - accuracy: 1.0000 - val_loss: 0.0660 - val_accuracy: 0.9776\n",
      "Epoch 57/100\n",
      "79/79 [==============================] - 1s 15ms/step - loss: 0.0012 - accuracy: 1.0000 - val_loss: 0.0822 - val_accuracy: 0.9744\n",
      "Epoch 58/100\n",
      "79/79 [==============================] - 1s 16ms/step - loss: 0.0012 - accuracy: 1.0000 - val_loss: 0.0697 - val_accuracy: 0.9808\n",
      "Epoch 59/100\n",
      "79/79 [==============================] - 1s 15ms/step - loss: 0.0014 - accuracy: 1.0000 - val_loss: 0.0620 - val_accuracy: 0.9792\n",
      "Epoch 60/100\n",
      "79/79 [==============================] - 1s 15ms/step - loss: 8.6975e-04 - accuracy: 1.0000 - val_loss: 0.0616 - val_accuracy: 0.9792\n",
      "Epoch 61/100\n",
      "79/79 [==============================] - 1s 15ms/step - loss: 8.5235e-04 - accuracy: 1.0000 - val_loss: 0.0671 - val_accuracy: 0.9760\n",
      "Epoch 62/100\n",
      "79/79 [==============================] - 1s 15ms/step - loss: 6.6361e-04 - accuracy: 1.0000 - val_loss: 0.0698 - val_accuracy: 0.9776\n",
      "Epoch 63/100\n",
      "79/79 [==============================] - 1s 15ms/step - loss: 6.8578e-04 - accuracy: 1.0000 - val_loss: 0.0674 - val_accuracy: 0.9744\n",
      "Epoch 64/100\n",
      "79/79 [==============================] - 1s 15ms/step - loss: 8.8351e-04 - accuracy: 1.0000 - val_loss: 0.0641 - val_accuracy: 0.9808\n",
      "Epoch 65/100\n",
      "79/79 [==============================] - 1s 15ms/step - loss: 6.7584e-04 - accuracy: 1.0000 - val_loss: 0.0988 - val_accuracy: 0.9776\n",
      "Epoch 66/100\n",
      "79/79 [==============================] - 1s 15ms/step - loss: 0.0011 - accuracy: 0.9996 - val_loss: 0.0609 - val_accuracy: 0.9808\n",
      "Epoch 67/100\n",
      "79/79 [==============================] - 1s 15ms/step - loss: 0.0011 - accuracy: 1.0000 - val_loss: 0.0648 - val_accuracy: 0.9792\n",
      "Epoch 68/100\n",
      "79/79 [==============================] - 1s 15ms/step - loss: 0.0045 - accuracy: 0.9976 - val_loss: 0.1028 - val_accuracy: 0.9776\n",
      "Epoch 69/100\n",
      "79/79 [==============================] - 1s 15ms/step - loss: 0.0102 - accuracy: 0.9960 - val_loss: 0.0756 - val_accuracy: 0.9776\n",
      "Epoch 70/100\n",
      "79/79 [==============================] - 1s 15ms/step - loss: 0.0268 - accuracy: 0.9920 - val_loss: 0.0959 - val_accuracy: 0.9681\n",
      "Epoch 71/100\n",
      "79/79 [==============================] - 1s 15ms/step - loss: 0.0037 - accuracy: 0.9992 - val_loss: 0.0784 - val_accuracy: 0.9744\n",
      "Epoch 72/100\n",
      "79/79 [==============================] - 1s 15ms/step - loss: 0.0054 - accuracy: 0.9980 - val_loss: 0.0586 - val_accuracy: 0.9792\n",
      "Epoch 73/100\n",
      "79/79 [==============================] - 1s 15ms/step - loss: 0.0040 - accuracy: 0.9988 - val_loss: 0.1034 - val_accuracy: 0.9728\n",
      "Epoch 74/100\n",
      "79/79 [==============================] - 1s 16ms/step - loss: 0.0162 - accuracy: 0.9940 - val_loss: 0.0942 - val_accuracy: 0.9665\n",
      "Epoch 75/100\n",
      "79/79 [==============================] - 1s 15ms/step - loss: 0.0091 - accuracy: 0.9972 - val_loss: 0.0799 - val_accuracy: 0.9728\n",
      "Epoch 76/100\n",
      "79/79 [==============================] - 1s 15ms/step - loss: 0.0024 - accuracy: 0.9996 - val_loss: 0.0626 - val_accuracy: 0.9776\n",
      "Epoch 77/100\n",
      "79/79 [==============================] - 1s 15ms/step - loss: 0.0033 - accuracy: 0.9992 - val_loss: 0.0793 - val_accuracy: 0.9776\n",
      "Epoch 78/100\n",
      "79/79 [==============================] - 1s 15ms/step - loss: 0.0025 - accuracy: 1.0000 - val_loss: 0.0592 - val_accuracy: 0.9792\n",
      "Epoch 79/100\n",
      "79/79 [==============================] - 1s 15ms/step - loss: 0.0016 - accuracy: 0.9992 - val_loss: 0.0528 - val_accuracy: 0.9792\n",
      "Epoch 80/100\n",
      "79/79 [==============================] - 1s 15ms/step - loss: 0.0036 - accuracy: 0.9996 - val_loss: 0.0714 - val_accuracy: 0.9744\n",
      "Epoch 81/100\n",
      "79/79 [==============================] - 1s 15ms/step - loss: 0.0013 - accuracy: 1.0000 - val_loss: 0.0629 - val_accuracy: 0.9760\n",
      "Epoch 82/100\n",
      "79/79 [==============================] - 1s 15ms/step - loss: 0.0018 - accuracy: 0.9996 - val_loss: 0.0615 - val_accuracy: 0.9744\n",
      "Epoch 83/100\n",
      "79/79 [==============================] - 1s 15ms/step - loss: 7.6322e-04 - accuracy: 1.0000 - val_loss: 0.0728 - val_accuracy: 0.9760\n",
      "Epoch 84/100\n",
      "79/79 [==============================] - 1s 16ms/step - loss: 9.6437e-04 - accuracy: 1.0000 - val_loss: 0.0687 - val_accuracy: 0.9744\n",
      "Epoch 85/100\n",
      "79/79 [==============================] - 1s 15ms/step - loss: 7.1267e-04 - accuracy: 1.0000 - val_loss: 0.0666 - val_accuracy: 0.9744\n",
      "Epoch 86/100\n",
      "79/79 [==============================] - 1s 15ms/step - loss: 8.4900e-04 - accuracy: 1.0000 - val_loss: 0.0628 - val_accuracy: 0.9744\n",
      "Epoch 87/100\n",
      "79/79 [==============================] - 1s 16ms/step - loss: 0.0010 - accuracy: 1.0000 - val_loss: 0.0600 - val_accuracy: 0.9744\n",
      "Epoch 88/100\n",
      "79/79 [==============================] - 1s 15ms/step - loss: 0.0033 - accuracy: 0.9988 - val_loss: 0.0437 - val_accuracy: 0.9808\n",
      "Epoch 89/100\n",
      "79/79 [==============================] - 1s 15ms/step - loss: 0.0022 - accuracy: 0.9996 - val_loss: 0.0351 - val_accuracy: 0.9872\n",
      "Epoch 90/100\n",
      "79/79 [==============================] - 1s 15ms/step - loss: 0.0079 - accuracy: 0.9972 - val_loss: 0.0612 - val_accuracy: 0.9776\n",
      "Epoch 91/100\n",
      "79/79 [==============================] - 1s 15ms/step - loss: 0.0035 - accuracy: 0.9992 - val_loss: 0.0783 - val_accuracy: 0.9728\n",
      "Epoch 92/100\n",
      "79/79 [==============================] - 1s 15ms/step - loss: 0.0025 - accuracy: 0.9992 - val_loss: 0.0530 - val_accuracy: 0.9824\n",
      "Epoch 93/100\n",
      "79/79 [==============================] - 1s 15ms/step - loss: 0.0011 - accuracy: 0.9996 - val_loss: 0.0638 - val_accuracy: 0.9776\n",
      "Epoch 94/100\n",
      "79/79 [==============================] - 1s 15ms/step - loss: 6.0294e-04 - accuracy: 1.0000 - val_loss: 0.0557 - val_accuracy: 0.9776\n",
      "Epoch 95/100\n",
      "79/79 [==============================] - 1s 15ms/step - loss: 6.9811e-04 - accuracy: 1.0000 - val_loss: 0.0547 - val_accuracy: 0.9808\n",
      "Epoch 96/100\n",
      "79/79 [==============================] - 1s 15ms/step - loss: 6.9724e-04 - accuracy: 1.0000 - val_loss: 0.0527 - val_accuracy: 0.9808\n",
      "Epoch 97/100\n",
      "79/79 [==============================] - 1s 15ms/step - loss: 0.0016 - accuracy: 0.9996 - val_loss: 0.0709 - val_accuracy: 0.9824\n",
      "Epoch 98/100\n",
      "79/79 [==============================] - 1s 16ms/step - loss: 7.9992e-04 - accuracy: 1.0000 - val_loss: 0.0475 - val_accuracy: 0.9824\n",
      "Epoch 99/100\n",
      "79/79 [==============================] - 1s 16ms/step - loss: 4.4502e-04 - accuracy: 1.0000 - val_loss: 0.0555 - val_accuracy: 0.9824\n",
      "Epoch 100/100\n",
      "79/79 [==============================] - 1s 16ms/step - loss: 7.1692e-04 - accuracy: 1.0000 - val_loss: 0.0488 - val_accuracy: 0.9824\n"
     ]
    }
   ],
   "source": [
    "# train model\n",
    "\n",
    "history = model.fit(X_train, y_train, validation_data=(X_validation, y_validation), batch_size=32, epochs=100)"
   ]
  },
  {
   "cell_type": "code",
   "execution_count": 67,
   "metadata": {},
   "outputs": [
    {
     "data": {
      "image/png": "[encoded data removed]",
      "text/plain": [
       "<Figure size 1440x576 with 2 Axes>"
      ]
     },
     "metadata": {
      "needs_background": "light"
     },
     "output_type": "display_data"
    }
   ],
   "source": [
    "# plot accuracy/error for training and validation\n",
    "\n",
    "plot_history(history)"
   ]
  },
  {
   "cell_type": "code",
   "execution_count": 68,
   "metadata": {},
   "outputs": [
    {
     "name": "stdout",
     "output_type": "stream",
     "text": [
      "33/33 - 0s - loss: 0.1350 - accuracy: 0.9732\n",
      "\n",
      "Test accuracy: 0.9731543660163879\n"
     ]
    }
   ],
   "source": [
    "# evaluate model on test set\n",
    "\n",
    "test_loss, test_acc = model.evaluate(X_test, y_test, verbose=2)\n",
    "print('\\nTest accuracy:', test_acc)"
   ]
  },
  {
   "cell_type": "markdown",
   "metadata": {},
   "source": [
    "0 = Fixed-wing\n",
    "1 = Helicopter"
   ]
  },
  {
   "cell_type": "code",
   "execution_count": 61,
   "metadata": {},
   "outputs": [
    {
     "name": "stdout",
     "output_type": "stream",
     "text": [
      "Target: 0, Predicted label: [0]\n"
     ]
    }
   ],
   "source": [
    "# pick a sample to predict from the test set\n",
    "\n",
    "X_to_predict = X_test[5]\n",
    "y_to_predict = y_test[5]\n",
    "\n",
    "# predict sample\n",
    "predict(model, X_to_predict, y_to_predict)"
   ]
  },
  {
   "cell_type": "code",
   "execution_count": 63,
   "metadata": {},
   "outputs": [
    {
     "data": {
      "text/plain": [
       "0"
      ]
     },
     "execution_count": 63,
     "metadata": {},
     "output_type": "execute_result"
    }
   ],
   "source": [
    "y_test[5]"
   ]
  },
  {
   "cell_type": "markdown",
   "metadata": {},
   "source": [
    "# GridSearch Pipeline (to-do)"
   ]
  },
  {
   "cell_type": "code",
   "execution_count": 39,
   "metadata": {},
   "outputs": [
    {
     "name": "stdout",
     "output_type": "stream",
     "text": [
      "Model: \"sequential_1\"\n",
      "_________________________________________________________________\n",
      "Layer (type)                 Output Shape              Param #   \n",
      "=================================================================\n",
      "conv2d_3 (Conv2D)            (None, 63, 11, 32)        320       \n",
      "_________________________________________________________________\n",
      "max_pooling2d_3 (MaxPooling2 (None, 32, 6, 32)         0         \n",
      "_________________________________________________________________\n",
      "batch_normalization_3 (Batch (None, 32, 6, 32)         128       \n",
      "_________________________________________________________________\n",
      "conv2d_4 (Conv2D)            (None, 30, 4, 32)         9248      \n",
      "_________________________________________________________________\n",
      "max_pooling2d_4 (MaxPooling2 (None, 15, 2, 32)         0         \n",
      "_________________________________________________________________\n",
      "batch_normalization_4 (Batch (None, 15, 2, 32)         128       \n",
      "_________________________________________________________________\n",
      "conv2d_5 (Conv2D)            (None, 14, 1, 32)         4128      \n",
      "_________________________________________________________________\n",
      "max_pooling2d_5 (MaxPooling2 (None, 7, 1, 32)          0         \n",
      "_________________________________________________________________\n",
      "batch_normalization_5 (Batch (None, 7, 1, 32)          128       \n",
      "_________________________________________________________________\n",
      "flatten_1 (Flatten)          (None, 224)               0         \n",
      "_________________________________________________________________\n",
      "dense_2 (Dense)              (None, 64)                14400     \n",
      "_________________________________________________________________\n",
      "dropout_1 (Dropout)          (None, 64)                0         \n",
      "_________________________________________________________________\n",
      "dense_3 (Dense)              (None, 10)                650       \n",
      "=================================================================\n",
      "Total params: 29,130\n",
      "Trainable params: 28,938\n",
      "Non-trainable params: 192\n",
      "_________________________________________________________________\n"
     ]
    }
   ],
   "source": [
    "# build network topology\n",
    "cnn_model = keras.Sequential()\n",
    "\n",
    "    # 1st conv layer\n",
    "cnn_model.add(keras.layers.Conv2D(32, (3, 3), activation='relu', input_shape=input_shape))\n",
    "cnn_model.add(keras.layers.MaxPooling2D((3, 3), strides=(2, 2), padding='same'))\n",
    "cnn_model.add(keras.layers.BatchNormalization())\n",
    "\n",
    "    # 2nd conv layer\n",
    "cnn_model.add(keras.layers.Conv2D(32, (3, 3), activation='relu'))\n",
    "cnn_model.add(keras.layers.MaxPooling2D((3, 3), strides=(2, 2), padding='same'))\n",
    "cnn_model.add(keras.layers.BatchNormalization())\n",
    "\n",
    "    # 3rd conv layer\n",
    "cnn_model.add(keras.layers.Conv2D(32, (2, 2), activation='relu'))\n",
    "cnn_model.add(keras.layers.MaxPooling2D((2, 2), strides=(2, 2), padding='same'))\n",
    "cnn_model.add(keras.layers.BatchNormalization())\n",
    "\n",
    "    # flatten output and feed it into dense layer\n",
    "cnn_model.add(keras.layers.Flatten())\n",
    "cnn_model.add(keras.layers.Dense(64, activation='relu'))\n",
    "cnn_model.add(keras.layers.Dropout(0.3))\n",
    "\n",
    "    # output layer\n",
    "cnn_model.add(keras.layers.Dense(10, activation='softmax'))\n",
    "\n",
    "optimiser = keras.optimizers.Adam(learning_rate=0.0001)\n",
    "cnn_model.compile(optimizer=optimiser,\n",
    "loss='sparse_categorical_crossentropy',\n",
    "metrics=['accuracy'])\n",
    "\n",
    "cnn_model.summary()\n",
    "\n",
    "   "
   ]
  },
  {
   "cell_type": "code",
   "execution_count": 32,
   "metadata": {},
   "outputs": [],
   "source": [
    "\n",
    "from sklearn.model_selection import GridSearchCV\n",
    "from sklearn.metrics import make_scorer\n",
    "from sklearn.metrics import accuracy_score, precision_score, recall_score\n",
    "from keras.wrappers.scikit_learn import KerasClassifier"
   ]
  },
  {
   "cell_type": "code",
   "execution_count": 52,
   "metadata": {},
   "outputs": [],
   "source": [
    "# define the grid search parameters\n",
    "\n",
    "batch_size = [100]\n",
    "epochs = [25, 40, 55, 70]\n",
    "#num_mfcc = [13, 25, 40, 55]\n",
    "#n_fft = [2048]\n",
    "#hop_length = [512]\n",
    "\n",
    "param_grid = dict(batch_size=batch_size, epochs=epochs)\n",
    "\n",
    "scorers = {'precision_score': make_scorer(precision_score),\n",
    "'recall_score': make_scorer(recall_score),\n",
    "'accuracy_score': make_scorer(accuracy_score)\n",
    "}\n",
    "\n",
    "estimator = cnn_model\n",
    "\n",
    "grid = GridSearchCV(estimator=estimator, param_grid=param_grid, n_jobs=1, cv=3, scoring=scorers,refit=\"precision_score\")\n",
    "\n",
    "\n",
    "\n"
   ]
  },
  {
   "cell_type": "code",
   "execution_count": 18,
   "metadata": {},
   "outputs": [],
   "source": [
    "X = X_train\n",
    "Y = y_train"
   ]
  },
  {
   "cell_type": "code",
   "execution_count": 53,
   "metadata": {},
   "outputs": [
    {
     "ename": "TypeError",
     "evalue": "Cannot clone object '<keras.engine.sequential.Sequential object at 0x290284910>' (type <class 'keras.engine.sequential.Sequential'>): it does not seem to be a scikit-learn estimator as it does not implement a 'get_params' method.",
     "output_type": "error",
     "traceback": [
      "\u001b[0;31m---------------------------------------------------------------------------\u001b[0m",
      "\u001b[0;31mTypeError\u001b[0m                                 Traceback (most recent call last)",
      "Input \u001b[0;32mIn [53]\u001b[0m, in \u001b[0;36m<module>\u001b[0;34m\u001b[0m\n\u001b[0;32m----> 1\u001b[0m grid_result \u001b[38;5;241m=\u001b[39m \u001b[43mgrid\u001b[49m\u001b[38;5;241;43m.\u001b[39;49m\u001b[43mfit\u001b[49m\u001b[43m(\u001b[49m\u001b[43mX\u001b[49m\u001b[43m,\u001b[49m\u001b[43m \u001b[49m\u001b[43mY\u001b[49m\u001b[43m)\u001b[49m\n",
      "File \u001b[0;32m~/miniforge3/envs/ml/lib/python3.9/site-packages/sklearn/model_selection/_search.py:805\u001b[0m, in \u001b[0;36mBaseSearchCV.fit\u001b[0;34m(self, X, y, groups, **fit_params)\u001b[0m\n\u001b[1;32m    802\u001b[0m cv_orig \u001b[38;5;241m=\u001b[39m check_cv(\u001b[38;5;28mself\u001b[39m\u001b[38;5;241m.\u001b[39mcv, y, classifier\u001b[38;5;241m=\u001b[39mis_classifier(estimator))\n\u001b[1;32m    803\u001b[0m n_splits \u001b[38;5;241m=\u001b[39m cv_orig\u001b[38;5;241m.\u001b[39mget_n_splits(X, y, groups)\n\u001b[0;32m--> 805\u001b[0m base_estimator \u001b[38;5;241m=\u001b[39m \u001b[43mclone\u001b[49m\u001b[43m(\u001b[49m\u001b[38;5;28;43mself\u001b[39;49m\u001b[38;5;241;43m.\u001b[39;49m\u001b[43mestimator\u001b[49m\u001b[43m)\u001b[49m\n\u001b[1;32m    807\u001b[0m parallel \u001b[38;5;241m=\u001b[39m Parallel(n_jobs\u001b[38;5;241m=\u001b[39m\u001b[38;5;28mself\u001b[39m\u001b[38;5;241m.\u001b[39mn_jobs, pre_dispatch\u001b[38;5;241m=\u001b[39m\u001b[38;5;28mself\u001b[39m\u001b[38;5;241m.\u001b[39mpre_dispatch)\n\u001b[1;32m    809\u001b[0m fit_and_score_kwargs \u001b[38;5;241m=\u001b[39m \u001b[38;5;28mdict\u001b[39m(\n\u001b[1;32m    810\u001b[0m     scorer\u001b[38;5;241m=\u001b[39mscorers,\n\u001b[1;32m    811\u001b[0m     fit_params\u001b[38;5;241m=\u001b[39mfit_params,\n\u001b[0;32m   (...)\u001b[0m\n\u001b[1;32m    817\u001b[0m     verbose\u001b[38;5;241m=\u001b[39m\u001b[38;5;28mself\u001b[39m\u001b[38;5;241m.\u001b[39mverbose,\n\u001b[1;32m    818\u001b[0m )\n",
      "File \u001b[0;32m~/miniforge3/envs/ml/lib/python3.9/site-packages/sklearn/base.py:76\u001b[0m, in \u001b[0;36mclone\u001b[0;34m(estimator, safe)\u001b[0m\n\u001b[1;32m     70\u001b[0m             \u001b[38;5;28;01mraise\u001b[39;00m \u001b[38;5;167;01mTypeError\u001b[39;00m(\n\u001b[1;32m     71\u001b[0m                 \u001b[38;5;124m\"\u001b[39m\u001b[38;5;124mCannot clone object. \u001b[39m\u001b[38;5;124m\"\u001b[39m\n\u001b[1;32m     72\u001b[0m                 \u001b[38;5;241m+\u001b[39m \u001b[38;5;124m\"\u001b[39m\u001b[38;5;124mYou should provide an instance of \u001b[39m\u001b[38;5;124m\"\u001b[39m\n\u001b[1;32m     73\u001b[0m                 \u001b[38;5;241m+\u001b[39m \u001b[38;5;124m\"\u001b[39m\u001b[38;5;124mscikit-learn estimator instead of a class.\u001b[39m\u001b[38;5;124m\"\u001b[39m\n\u001b[1;32m     74\u001b[0m             )\n\u001b[1;32m     75\u001b[0m         \u001b[38;5;28;01melse\u001b[39;00m:\n\u001b[0;32m---> 76\u001b[0m             \u001b[38;5;28;01mraise\u001b[39;00m \u001b[38;5;167;01mTypeError\u001b[39;00m(\n\u001b[1;32m     77\u001b[0m                 \u001b[38;5;124m\"\u001b[39m\u001b[38;5;124mCannot clone object \u001b[39m\u001b[38;5;124m'\u001b[39m\u001b[38;5;132;01m%s\u001b[39;00m\u001b[38;5;124m'\u001b[39m\u001b[38;5;124m (type \u001b[39m\u001b[38;5;132;01m%s\u001b[39;00m\u001b[38;5;124m): \u001b[39m\u001b[38;5;124m\"\u001b[39m\n\u001b[1;32m     78\u001b[0m                 \u001b[38;5;124m\"\u001b[39m\u001b[38;5;124mit does not seem to be a scikit-learn \u001b[39m\u001b[38;5;124m\"\u001b[39m\n\u001b[1;32m     79\u001b[0m                 \u001b[38;5;124m\"\u001b[39m\u001b[38;5;124mestimator as it does not implement a \u001b[39m\u001b[38;5;124m\"\u001b[39m\n\u001b[1;32m     80\u001b[0m                 \u001b[38;5;124m\"\u001b[39m\u001b[38;5;124m'\u001b[39m\u001b[38;5;124mget_params\u001b[39m\u001b[38;5;124m'\u001b[39m\u001b[38;5;124m method.\u001b[39m\u001b[38;5;124m\"\u001b[39m \u001b[38;5;241m%\u001b[39m (\u001b[38;5;28mrepr\u001b[39m(estimator), \u001b[38;5;28mtype\u001b[39m(estimator))\n\u001b[1;32m     81\u001b[0m             )\n\u001b[1;32m     83\u001b[0m klass \u001b[38;5;241m=\u001b[39m estimator\u001b[38;5;241m.\u001b[39m\u001b[38;5;18m__class__\u001b[39m\n\u001b[1;32m     84\u001b[0m new_object_params \u001b[38;5;241m=\u001b[39m estimator\u001b[38;5;241m.\u001b[39mget_params(deep\u001b[38;5;241m=\u001b[39m\u001b[38;5;28;01mFalse\u001b[39;00m)\n",
      "\u001b[0;31mTypeError\u001b[0m: Cannot clone object '<keras.engine.sequential.Sequential object at 0x290284910>' (type <class 'keras.engine.sequential.Sequential'>): it does not seem to be a scikit-learn estimator as it does not implement a 'get_params' method."
     ]
    }
   ],
   "source": [
    "grid_result = grid.fit(X, Y)"
   ]
  },
  {
   "cell_type": "code",
   "execution_count": null,
   "metadata": {},
   "outputs": [],
   "source": [
    "# summarize results\n",
    "print(\"Best: %f using %s\" % (grid_result.best_score_, grid_result.best_params_))\n",
    "means = grid_result.cv_results_['mean_test_score']\n",
    "stds = grid_result.cv_results_['std_test_score']\n",
    "params = grid_result.cv_results_['params']\n",
    "for mean, stdev, param in zip(means, stds, params):\n",
    "    print(\"%f (%f) with: %r\" % (mean, stdev, param))"
   ]
  }
 ],
 "metadata": {
  "interpreter": {
   "hash": "656066ee1be8e6b42526d551a6c2e826f46a445789699d535b17c2aeafe1d843"
  },
  "kernelspec": {
   "display_name": "Python 3.9.9 64-bit ('ml': conda)",
   "language": "python",
   "name": "python3"
  },
  "language_info": {
   "codemirror_mode": {
    "name": "ipython",
    "version": 3
   },
   "file_extension": ".py",
   "mimetype": "text/x-python",
   "name": "python",
   "nbconvert_exporter": "python",
   "pygments_lexer": "ipython3",
   "version": "3.9.9"
  },
  "orig_nbformat": 4
 },
 "nbformat": 4,
 "nbformat_minor": 2
}
