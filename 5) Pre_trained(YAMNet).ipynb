{
  "cells": [
    {
      "cell_type": "markdown",
      "metadata": {
        "id": "Vbg2r3c5CwrO"
      },
      "source": [
        "# Transfer Learning using the YAMNet pre-trained model"
      ]
    },
    {
      "cell_type": "markdown",
      "metadata": {
        "id": "CE9bWM03DkEv"
      },
      "source": [
        "YAMNet is an audio event classifier that takes audio waveform as input and makes independent predictions for each of 521 audio events from the AudioSet ontology. The model uses the MobileNet v1 architecture and was trained using the AudioSet corpus."
      ]
    },
    {
      "cell_type": "markdown",
      "metadata": {
        "id": "aXhqaNSNDXvr"
      },
      "source": [
        "# Colab dependencies"
      ]
    },
    {
      "cell_type": "code",
      "execution_count": null,
      "metadata": {
        "id": "LI9VupkP6LYn"
      },
      "outputs": [],
      "source": [
        "#https://www.tensorflow.org/lite/tutorials/model_maker_audio_classification"
      ]
    },
    {
      "cell_type": "code",
      "execution_count": null,
      "metadata": {
        "colab": {
          "base_uri": "https://localhost:8080/"
        },
        "id": "f80RWLzB6ea6",
        "outputId": "80fa53e4-abe9-449d-ce0c-768288e0580e"
      },
      "outputs": [
        {
          "name": "stdout",
          "output_type": "stream",
          "text": [
            "Requirement already satisfied: tflite-model-maker in /usr/local/lib/python3.7/dist-packages (0.3.4)\n",
            "Requirement already satisfied: tflite-support>=0.3.1 in /usr/local/lib/python3.7/dist-packages (from tflite-model-maker) (0.3.1)\n",
            "Requirement already satisfied: six>=1.12.0 in /usr/local/lib/python3.7/dist-packages (from tflite-model-maker) (1.15.0)\n",
            "Requirement already satisfied: sentencepiece>=0.1.91 in /usr/local/lib/python3.7/dist-packages (from tflite-model-maker) (0.1.96)\n",
            "Requirement already satisfied: neural-structured-learning>=1.3.1 in /usr/local/lib/python3.7/dist-packages (from tflite-model-maker) (1.3.1)\n",
            "Requirement already satisfied: fire>=0.3.1 in /usr/local/lib/python3.7/dist-packages (from tflite-model-maker) (0.4.0)\n",
            "Requirement already satisfied: tf-models-official==2.3.0 in /usr/local/lib/python3.7/dist-packages (from tflite-model-maker) (2.3.0)\n",
            "Requirement already satisfied: tensorflow-addons>=0.11.2 in /usr/local/lib/python3.7/dist-packages (from tflite-model-maker) (0.15.0)\n",
            "Requirement already satisfied: lxml>=4.6.1 in /usr/local/lib/python3.7/dist-packages (from tflite-model-maker) (4.7.1)\n",
            "Requirement already satisfied: librosa==0.8.1 in /usr/local/lib/python3.7/dist-packages (from tflite-model-maker) (0.8.1)\n",
            "Requirement already satisfied: pillow>=7.0.0 in /usr/local/lib/python3.7/dist-packages (from tflite-model-maker) (7.1.2)\n",
            "Requirement already satisfied: flatbuffers==1.12 in /usr/local/lib/python3.7/dist-packages (from tflite-model-maker) (1.12)\n",
            "Requirement already satisfied: tensorflow-model-optimization>=0.5 in /usr/local/lib/python3.7/dist-packages (from tflite-model-maker) (0.7.0)\n",
            "Requirement already satisfied: tensorflow-datasets>=2.1.0 in /usr/local/lib/python3.7/dist-packages (from tflite-model-maker) (4.0.1)\n",
            "Requirement already satisfied: Cython>=0.29.13 in /usr/local/lib/python3.7/dist-packages (from tflite-model-maker) (0.29.27)\n",
            "Requirement already satisfied: numba==0.53 in /usr/local/lib/python3.7/dist-packages (from tflite-model-maker) (0.53.0)\n",
            "Requirement already satisfied: numpy>=1.17.3 in /usr/local/lib/python3.7/dist-packages (from tflite-model-maker) (1.19.5)\n",
            "Requirement already satisfied: absl-py>=0.10.0 in /usr/local/lib/python3.7/dist-packages (from tflite-model-maker) (1.0.0)\n",
            "Requirement already satisfied: tensorflowjs>=2.4.0 in /usr/local/lib/python3.7/dist-packages (from tflite-model-maker) (3.13.0)\n",
            "Requirement already satisfied: urllib3!=1.25.0,!=1.25.1,<1.26,>=1.21.1 in /usr/local/lib/python3.7/dist-packages (from tflite-model-maker) (1.24.3)\n",
            "Requirement already satisfied: tensorflow-hub<0.13,>=0.7.0 in /usr/local/lib/python3.7/dist-packages (from tflite-model-maker) (0.12.0)\n",
            "Requirement already satisfied: PyYAML>=5.1 in /usr/local/lib/python3.7/dist-packages (from tflite-model-maker) (6.0)\n",
            "Requirement already satisfied: matplotlib<3.5.0,>=3.0.3 in /usr/local/lib/python3.7/dist-packages (from tflite-model-maker) (3.2.2)\n",
            "Requirement already satisfied: tensorflow>=2.6.0 in /usr/local/lib/python3.7/dist-packages (from tflite-model-maker) (2.7.0)\n",
            "Requirement already satisfied: audioread>=2.0.0 in /usr/local/lib/python3.7/dist-packages (from librosa==0.8.1->tflite-model-maker) (2.1.9)\n",
            "Requirement already satisfied: joblib>=0.14 in /usr/local/lib/python3.7/dist-packages (from librosa==0.8.1->tflite-model-maker) (1.1.0)\n",
            "Requirement already satisfied: pooch>=1.0 in /usr/local/lib/python3.7/dist-packages (from librosa==0.8.1->tflite-model-maker) (1.6.0)\n",
            "Requirement already satisfied: resampy>=0.2.2 in /usr/local/lib/python3.7/dist-packages (from librosa==0.8.1->tflite-model-maker) (0.2.2)\n",
            "Requirement already satisfied: scipy>=1.0.0 in /usr/local/lib/python3.7/dist-packages (from librosa==0.8.1->tflite-model-maker) (1.4.1)\n",
            "Requirement already satisfied: scikit-learn!=0.19.0,>=0.14.0 in /usr/local/lib/python3.7/dist-packages (from librosa==0.8.1->tflite-model-maker) (1.0.2)\n",
            "Requirement already satisfied: soundfile>=0.10.2 in /usr/local/lib/python3.7/dist-packages (from librosa==0.8.1->tflite-model-maker) (0.10.3.post1)\n",
            "Requirement already satisfied: packaging>=20.0 in /usr/local/lib/python3.7/dist-packages (from librosa==0.8.1->tflite-model-maker) (21.3)\n",
            "Requirement already satisfied: decorator>=3.0.0 in /usr/local/lib/python3.7/dist-packages (from librosa==0.8.1->tflite-model-maker) (4.4.2)\n",
            "Requirement already satisfied: setuptools in /usr/local/lib/python3.7/dist-packages (from numba==0.53->tflite-model-maker) (57.4.0)\n",
            "Requirement already satisfied: llvmlite<0.37,>=0.36.0rc1 in /usr/local/lib/python3.7/dist-packages (from numba==0.53->tflite-model-maker) (0.36.0)\n",
            "Requirement already satisfied: psutil>=5.4.3 in /usr/local/lib/python3.7/dist-packages (from tf-models-official==2.3.0->tflite-model-maker) (5.4.8)\n",
            "Requirement already satisfied: kaggle>=1.3.9 in /usr/local/lib/python3.7/dist-packages (from tf-models-official==2.3.0->tflite-model-maker) (1.5.12)\n",
            "Requirement already satisfied: opencv-python-headless in /usr/local/lib/python3.7/dist-packages (from tf-models-official==2.3.0->tflite-model-maker) (4.5.5.62)\n",
            "Requirement already satisfied: gin-config in /usr/local/lib/python3.7/dist-packages (from tf-models-official==2.3.0->tflite-model-maker) (0.5.0)\n",
            "Requirement already satisfied: py-cpuinfo>=3.3.0 in /usr/local/lib/python3.7/dist-packages (from tf-models-official==2.3.0->tflite-model-maker) (8.0.0)\n",
            "Requirement already satisfied: pandas>=0.22.0 in /usr/local/lib/python3.7/dist-packages (from tf-models-official==2.3.0->tflite-model-maker) (1.3.5)\n",
            "Requirement already satisfied: dataclasses in /usr/local/lib/python3.7/dist-packages (from tf-models-official==2.3.0->tflite-model-maker) (0.6)\n",
            "Requirement already satisfied: google-api-python-client>=1.6.7 in /usr/local/lib/python3.7/dist-packages (from tf-models-official==2.3.0->tflite-model-maker) (1.12.10)\n",
            "Requirement already satisfied: google-cloud-bigquery>=0.31.0 in /usr/local/lib/python3.7/dist-packages (from tf-models-official==2.3.0->tflite-model-maker) (1.21.0)\n",
            "Requirement already satisfied: tf-slim>=1.1.0 in /usr/local/lib/python3.7/dist-packages (from tf-models-official==2.3.0->tflite-model-maker) (1.1.0)\n",
            "Requirement already satisfied: termcolor in /usr/local/lib/python3.7/dist-packages (from fire>=0.3.1->tflite-model-maker) (1.1.0)\n",
            "Requirement already satisfied: httplib2<1dev,>=0.15.0 in /usr/local/lib/python3.7/dist-packages (from google-api-python-client>=1.6.7->tf-models-official==2.3.0->tflite-model-maker) (0.17.4)\n",
            "Requirement already satisfied: uritemplate<4dev,>=3.0.0 in /usr/local/lib/python3.7/dist-packages (from google-api-python-client>=1.6.7->tf-models-official==2.3.0->tflite-model-maker) (3.0.1)\n",
            "Requirement already satisfied: google-auth<3dev,>=1.16.0 in /usr/local/lib/python3.7/dist-packages (from google-api-python-client>=1.6.7->tf-models-official==2.3.0->tflite-model-maker) (1.35.0)\n",
            "Requirement already satisfied: google-auth-httplib2>=0.0.3 in /usr/local/lib/python3.7/dist-packages (from google-api-python-client>=1.6.7->tf-models-official==2.3.0->tflite-model-maker) (0.0.4)\n",
            "Requirement already satisfied: google-api-core<3dev,>=1.21.0 in /usr/local/lib/python3.7/dist-packages (from google-api-python-client>=1.6.7->tf-models-official==2.3.0->tflite-model-maker) (1.26.3)\n",
            "Requirement already satisfied: protobuf>=3.12.0 in /usr/local/lib/python3.7/dist-packages (from google-api-core<3dev,>=1.21.0->google-api-python-client>=1.6.7->tf-models-official==2.3.0->tflite-model-maker) (3.17.3)\n",
            "Requirement already satisfied: requests<3.0.0dev,>=2.18.0 in /usr/local/lib/python3.7/dist-packages (from google-api-core<3dev,>=1.21.0->google-api-python-client>=1.6.7->tf-models-official==2.3.0->tflite-model-maker) (2.23.0)\n",
            "Requirement already satisfied: googleapis-common-protos<2.0dev,>=1.6.0 in /usr/local/lib/python3.7/dist-packages (from google-api-core<3dev,>=1.21.0->google-api-python-client>=1.6.7->tf-models-official==2.3.0->tflite-model-maker) (1.54.0)\n",
            "Requirement already satisfied: pytz in /usr/local/lib/python3.7/dist-packages (from google-api-core<3dev,>=1.21.0->google-api-python-client>=1.6.7->tf-models-official==2.3.0->tflite-model-maker) (2018.9)\n",
            "Requirement already satisfied: rsa<5,>=3.1.4 in /usr/local/lib/python3.7/dist-packages (from google-auth<3dev,>=1.16.0->google-api-python-client>=1.6.7->tf-models-official==2.3.0->tflite-model-maker) (4.8)\n",
            "Requirement already satisfied: cachetools<5.0,>=2.0.0 in /usr/local/lib/python3.7/dist-packages (from google-auth<3dev,>=1.16.0->google-api-python-client>=1.6.7->tf-models-official==2.3.0->tflite-model-maker) (4.2.4)\n",
            "Requirement already satisfied: pyasn1-modules>=0.2.1 in /usr/local/lib/python3.7/dist-packages (from google-auth<3dev,>=1.16.0->google-api-python-client>=1.6.7->tf-models-official==2.3.0->tflite-model-maker) (0.2.8)\n",
            "Requirement already satisfied: google-cloud-core<2.0dev,>=1.0.3 in /usr/local/lib/python3.7/dist-packages (from google-cloud-bigquery>=0.31.0->tf-models-official==2.3.0->tflite-model-maker) (1.0.3)\n",
            "Requirement already satisfied: google-resumable-media!=0.4.0,<0.5.0dev,>=0.3.1 in /usr/local/lib/python3.7/dist-packages (from google-cloud-bigquery>=0.31.0->tf-models-official==2.3.0->tflite-model-maker) (0.4.1)\n",
            "Requirement already satisfied: python-dateutil in /usr/local/lib/python3.7/dist-packages (from kaggle>=1.3.9->tf-models-official==2.3.0->tflite-model-maker) (2.8.2)\n",
            "Requirement already satisfied: certifi in /usr/local/lib/python3.7/dist-packages (from kaggle>=1.3.9->tf-models-official==2.3.0->tflite-model-maker) (2021.10.8)\n",
            "Requirement already satisfied: tqdm in /usr/local/lib/python3.7/dist-packages (from kaggle>=1.3.9->tf-models-official==2.3.0->tflite-model-maker) (4.62.3)\n",
            "Requirement already satisfied: python-slugify in /usr/local/lib/python3.7/dist-packages (from kaggle>=1.3.9->tf-models-official==2.3.0->tflite-model-maker) (5.0.2)\n",
            "Requirement already satisfied: pyparsing!=2.0.4,!=2.1.2,!=2.1.6,>=2.0.1 in /usr/local/lib/python3.7/dist-packages (from matplotlib<3.5.0,>=3.0.3->tflite-model-maker) (3.0.7)\n",
            "Requirement already satisfied: cycler>=0.10 in /usr/local/lib/python3.7/dist-packages (from matplotlib<3.5.0,>=3.0.3->tflite-model-maker) (0.11.0)\n",
            "Requirement already satisfied: kiwisolver>=1.0.1 in /usr/local/lib/python3.7/dist-packages (from matplotlib<3.5.0,>=3.0.3->tflite-model-maker) (1.3.2)\n",
            "Requirement already satisfied: attrs in /usr/local/lib/python3.7/dist-packages (from neural-structured-learning>=1.3.1->tflite-model-maker) (21.4.0)\n",
            "Requirement already satisfied: appdirs>=1.3.0 in /usr/local/lib/python3.7/dist-packages (from pooch>=1.0->librosa==0.8.1->tflite-model-maker) (1.4.4)\n",
            "Requirement already satisfied: pyasn1<0.5.0,>=0.4.6 in /usr/local/lib/python3.7/dist-packages (from pyasn1-modules>=0.2.1->google-auth<3dev,>=1.16.0->google-api-python-client>=1.6.7->tf-models-official==2.3.0->tflite-model-maker) (0.4.8)\n",
            "Requirement already satisfied: chardet<4,>=3.0.2 in /usr/local/lib/python3.7/dist-packages (from requests<3.0.0dev,>=2.18.0->google-api-core<3dev,>=1.21.0->google-api-python-client>=1.6.7->tf-models-official==2.3.0->tflite-model-maker) (3.0.4)\n",
            "Requirement already satisfied: idna<3,>=2.5 in /usr/local/lib/python3.7/dist-packages (from requests<3.0.0dev,>=2.18.0->google-api-core<3dev,>=1.21.0->google-api-python-client>=1.6.7->tf-models-official==2.3.0->tflite-model-maker) (2.10)\n",
            "Requirement already satisfied: threadpoolctl>=2.0.0 in /usr/local/lib/python3.7/dist-packages (from scikit-learn!=0.19.0,>=0.14.0->librosa==0.8.1->tflite-model-maker) (3.1.0)\n",
            "Requirement already satisfied: cffi>=1.0 in /usr/local/lib/python3.7/dist-packages (from soundfile>=0.10.2->librosa==0.8.1->tflite-model-maker) (1.15.0)\n",
            "Requirement already satisfied: pycparser in /usr/local/lib/python3.7/dist-packages (from cffi>=1.0->soundfile>=0.10.2->librosa==0.8.1->tflite-model-maker) (2.21)\n",
            "Requirement already satisfied: tensorflow-estimator<2.8,~=2.7.0rc0 in /usr/local/lib/python3.7/dist-packages (from tensorflow>=2.6.0->tflite-model-maker) (2.7.0)\n",
            "Requirement already satisfied: grpcio<2.0,>=1.24.3 in /usr/local/lib/python3.7/dist-packages (from tensorflow>=2.6.0->tflite-model-maker) (1.43.0)\n",
            "Requirement already satisfied: h5py>=2.9.0 in /usr/local/lib/python3.7/dist-packages (from tensorflow>=2.6.0->tflite-model-maker) (3.1.0)\n",
            "Requirement already satisfied: google-pasta>=0.1.1 in /usr/local/lib/python3.7/dist-packages (from tensorflow>=2.6.0->tflite-model-maker) (0.2.0)\n",
            "Requirement already satisfied: tensorflow-io-gcs-filesystem>=0.21.0 in /usr/local/lib/python3.7/dist-packages (from tensorflow>=2.6.0->tflite-model-maker) (0.23.1)\n",
            "Requirement already satisfied: keras-preprocessing>=1.1.1 in /usr/local/lib/python3.7/dist-packages (from tensorflow>=2.6.0->tflite-model-maker) (1.1.2)\n",
            "Requirement already satisfied: typing-extensions>=3.6.6 in /usr/local/lib/python3.7/dist-packages (from tensorflow>=2.6.0->tflite-model-maker) (3.10.0.2)\n",
            "Requirement already satisfied: tensorboard~=2.6 in /usr/local/lib/python3.7/dist-packages (from tensorflow>=2.6.0->tflite-model-maker) (2.7.0)\n",
            "Requirement already satisfied: astunparse>=1.6.0 in /usr/local/lib/python3.7/dist-packages (from tensorflow>=2.6.0->tflite-model-maker) (1.6.3)\n",
            "Requirement already satisfied: gast<0.5.0,>=0.2.1 in /usr/local/lib/python3.7/dist-packages (from tensorflow>=2.6.0->tflite-model-maker) (0.4.0)\n",
            "Requirement already satisfied: wrapt>=1.11.0 in /usr/local/lib/python3.7/dist-packages (from tensorflow>=2.6.0->tflite-model-maker) (1.13.3)\n",
            "Requirement already satisfied: keras<2.8,>=2.7.0rc0 in /usr/local/lib/python3.7/dist-packages (from tensorflow>=2.6.0->tflite-model-maker) (2.7.0)\n",
            "Requirement already satisfied: libclang>=9.0.1 in /usr/local/lib/python3.7/dist-packages (from tensorflow>=2.6.0->tflite-model-maker) (13.0.0)\n",
            "Requirement already satisfied: opt-einsum>=2.3.2 in /usr/local/lib/python3.7/dist-packages (from tensorflow>=2.6.0->tflite-model-maker) (3.3.0)\n",
            "Requirement already satisfied: wheel<1.0,>=0.32.0 in /usr/local/lib/python3.7/dist-packages (from tensorflow>=2.6.0->tflite-model-maker) (0.37.1)\n",
            "Requirement already satisfied: cached-property in /usr/local/lib/python3.7/dist-packages (from h5py>=2.9.0->tensorflow>=2.6.0->tflite-model-maker) (1.5.2)\n",
            "Requirement already satisfied: markdown>=2.6.8 in /usr/local/lib/python3.7/dist-packages (from tensorboard~=2.6->tensorflow>=2.6.0->tflite-model-maker) (3.3.6)\n",
            "Requirement already satisfied: tensorboard-data-server<0.7.0,>=0.6.0 in /usr/local/lib/python3.7/dist-packages (from tensorboard~=2.6->tensorflow>=2.6.0->tflite-model-maker) (0.6.1)\n",
            "Requirement already satisfied: tensorboard-plugin-wit>=1.6.0 in /usr/local/lib/python3.7/dist-packages (from tensorboard~=2.6->tensorflow>=2.6.0->tflite-model-maker) (1.8.1)\n",
            "Requirement already satisfied: werkzeug>=0.11.15 in /usr/local/lib/python3.7/dist-packages (from tensorboard~=2.6->tensorflow>=2.6.0->tflite-model-maker) (1.0.1)\n",
            "Requirement already satisfied: google-auth-oauthlib<0.5,>=0.4.1 in /usr/local/lib/python3.7/dist-packages (from tensorboard~=2.6->tensorflow>=2.6.0->tflite-model-maker) (0.4.6)\n",
            "Requirement already satisfied: requests-oauthlib>=0.7.0 in /usr/local/lib/python3.7/dist-packages (from google-auth-oauthlib<0.5,>=0.4.1->tensorboard~=2.6->tensorflow>=2.6.0->tflite-model-maker) (1.3.1)\n",
            "Requirement already satisfied: importlib-metadata>=4.4 in /usr/local/lib/python3.7/dist-packages (from markdown>=2.6.8->tensorboard~=2.6->tensorflow>=2.6.0->tflite-model-maker) (4.10.1)\n",
            "Requirement already satisfied: zipp>=0.5 in /usr/local/lib/python3.7/dist-packages (from importlib-metadata>=4.4->markdown>=2.6.8->tensorboard~=2.6->tensorflow>=2.6.0->tflite-model-maker) (3.7.0)\n",
            "Requirement already satisfied: oauthlib>=3.0.0 in /usr/local/lib/python3.7/dist-packages (from requests-oauthlib>=0.7.0->google-auth-oauthlib<0.5,>=0.4.1->tensorboard~=2.6->tensorflow>=2.6.0->tflite-model-maker) (3.2.0)\n",
            "Requirement already satisfied: typeguard>=2.7 in /usr/local/lib/python3.7/dist-packages (from tensorflow-addons>=0.11.2->tflite-model-maker) (2.7.1)\n",
            "Requirement already satisfied: importlib-resources in /usr/local/lib/python3.7/dist-packages (from tensorflow-datasets>=2.1.0->tflite-model-maker) (5.4.0)\n",
            "Requirement already satisfied: dill in /usr/local/lib/python3.7/dist-packages (from tensorflow-datasets>=2.1.0->tflite-model-maker) (0.3.4)\n",
            "Requirement already satisfied: promise in /usr/local/lib/python3.7/dist-packages (from tensorflow-datasets>=2.1.0->tflite-model-maker) (2.3)\n",
            "Requirement already satisfied: future in /usr/local/lib/python3.7/dist-packages (from tensorflow-datasets>=2.1.0->tflite-model-maker) (0.16.0)\n",
            "Requirement already satisfied: tensorflow-metadata in /usr/local/lib/python3.7/dist-packages (from tensorflow-datasets>=2.1.0->tflite-model-maker) (1.6.0)\n",
            "Requirement already satisfied: dm-tree in /usr/local/lib/python3.7/dist-packages (from tensorflow-datasets>=2.1.0->tflite-model-maker) (0.1.6)\n",
            "Requirement already satisfied: pybind11>=2.6.0 in /usr/local/lib/python3.7/dist-packages (from tflite-support>=0.3.1->tflite-model-maker) (2.9.1)\n",
            "Requirement already satisfied: text-unidecode>=1.3 in /usr/local/lib/python3.7/dist-packages (from python-slugify->kaggle>=1.3.9->tf-models-official==2.3.0->tflite-model-maker) (1.3)\n"
          ]
        }
      ],
      "source": [
        "! pip install tflite-model-maker"
      ]
    },
    {
      "cell_type": "code",
      "execution_count": null,
      "metadata": {
        "colab": {
          "base_uri": "https://localhost:8080/"
        },
        "id": "pJ6FzSVmdpb1",
        "outputId": "acd191bf-b94c-4a6d-80cf-da55cfc12e54"
      },
      "outputs": [
        {
          "name": "stdout",
          "output_type": "stream",
          "text": [
            "Drive already mounted at /content/drive; to attempt to forcibly remount, call drive.mount(\"/content/drive\", force_remount=True).\n"
          ]
        }
      ],
      "source": [
        "# Google Drive connection\n",
        "\n",
        "from google.colab import drive\n",
        "drive.mount('/content/drive')"
      ]
    },
    {
      "cell_type": "markdown",
      "metadata": {
        "id": "5YYrw3VBDfJJ"
      },
      "source": [
        "# Imports"
      ]
    },
    {
      "cell_type": "code",
      "execution_count": 3,
      "metadata": {
        "colab": {
          "base_uri": "https://localhost:8080/"
        },
        "id": "twgvy3oSeA1m",
        "outputId": "9b62848f-03ca-4247-93cb-d47ff9b4ea1c"
      },
      "outputs": [
        {
          "name": "stdout",
          "output_type": "stream",
          "text": [
            "TensorFlow Version: 2.7.0\n",
            "Model Maker Version: 0.3.4\n"
          ]
        }
      ],
      "source": [
        "import tensorflow as tf\n",
        "import tflite_model_maker as mm\n",
        "from tflite_model_maker import audio_classifier\n",
        "import os\n",
        "\n",
        "import numpy as np\n",
        "import matplotlib.pyplot as plt\n",
        "import seaborn as sns\n",
        "\n",
        "import itertools\n",
        "import glob\n",
        "import random\n",
        "\n",
        "from IPython.display import Audio, Image\n",
        "from scipy.io import wavfile\n",
        "\n",
        "print(f\"TensorFlow Version: {tf.__version__}\")\n",
        "print(f\"Model Maker Version: {mm.__version__}\")"
      ]
    },
    {
      "cell_type": "code",
      "execution_count": 4,
      "metadata": {
        "colab": {
          "base_uri": "https://localhost:8080/"
        },
        "id": "HHM7MLfAOnEm",
        "outputId": "67d796d0-b910-4463-870a-bcf716996efe"
      },
      "outputs": [
        {
          "name": "stdout",
          "output_type": "stream",
          "text": [
            "functions and data structures created\n"
          ]
        }
      ],
      "source": [
        "# Util functions and data structures\n",
        "\n",
        "data_dir = '/content/drive/MyDrive/Capstone_Project - Audio Analysis/Capstone_Proj/YAMNet_model_dataset'\n",
        "\n",
        "code_to_name = {\n",
        "  'helo': 'Helicopter',\n",
        "  'fixed': 'Fixed-wing'   \n",
        "}\n",
        "\n",
        "birds_images = {\n",
        "  'helo': 'https://en.wikipedia.org/wiki/Helicopter#/media/File:LAPD_Bell_206_Jetranger.jpg',\n",
        "  'fixed': 'https://en.wikipedia.org/wiki/Cessna_172#/media/File:Cessna_172S_Skyhawk_SP,_Private_JP6817606.jpg'\n",
        "}\n",
        "\n",
        "test_files = os.path.abspath(os.path.join(data_dir, 'test/*/*.wav'))\n",
        "\n",
        "def get_random_audio_file():\n",
        "  test_list = glob.glob(test_files)\n",
        "  random_audio_path = random.choice(test_list)\n",
        "  return random_audio_path\n",
        "\n",
        "\n",
        "def show_bird_data(audio_path):\n",
        "  sample_rate, audio_data = wavfile.read(audio_path, 'rb')\n",
        "\n",
        "  bird_code = audio_path.split('/')[-2]\n",
        "  print(f'Bird name: {code_to_name[bird_code]}')\n",
        "  print(f'Bird code: {bird_code}')\n",
        "  display(Image(birds_images[bird_code]))\n",
        "\n",
        "  plttitle = f'{code_to_name[bird_code]} ({bird_code})'\n",
        "  plt.title(plttitle)\n",
        "  plt.plot(audio_data)\n",
        "  display(Audio(audio_data, rate=sample_rate))\n",
        "\n",
        "print('functions and data structures created')\n",
        "\n"
      ]
    },
    {
      "cell_type": "code",
      "execution_count": null,
      "metadata": {
        "id": "9fgqRau5Uw7b"
      },
      "outputs": [],
      "source": [
        "random_audio = get_random_audio_file()\n",
        "\n",
        "show_bird_data(random_audio)"
      ]
    },
    {
      "cell_type": "code",
      "execution_count": 6,
      "metadata": {
        "colab": {
          "base_uri": "https://localhost:8080/"
        },
        "id": "rkJ2GV7-eEyb",
        "outputId": "ce296275-9a78-47ac-c5de-ac2680e2b40b"
      },
      "outputs": [
        {
          "name": "stdout",
          "output_type": "stream",
          "text": [
            "INFO:tensorflow:Checkpoints are stored in /tmp/tmpr5c264m1\n"
          ]
        }
      ],
      "source": [
        "spec = audio_classifier.YamNetSpec(\n",
        "    keep_yamnet_and_custom_heads=True,\n",
        "    frame_step=1 * audio_classifier.YamNetSpec.EXPECTED_WAVEFORM_LENGTH,\n",
        "    frame_length=15 * audio_classifier.YamNetSpec.EXPECTED_WAVEFORM_LENGTH)"
      ]
    },
    {
      "cell_type": "code",
      "execution_count": 7,
      "metadata": {
        "id": "WnEmDqWwe3fo"
      },
      "outputs": [],
      "source": [
        "train_data = audio_classifier.DataLoader.from_folder(\n",
        "    spec, os.path.join(data_dir, 'train'), cache=True)\n",
        "train_data, validation_data = train_data.split(0.8)\n",
        "test_data = audio_classifier.DataLoader.from_folder(\n",
        "    spec, os.path.join(data_dir, 'test'), cache=True)"
      ]
    },
    {
      "cell_type": "code",
      "execution_count": 11,
      "metadata": {
        "colab": {
          "base_uri": "https://localhost:8080/"
        },
        "id": "NTv8jHCTW3Jn",
        "outputId": "ee237720-8e7d-4a6c-de96-d99b83fed1f1"
      },
      "outputs": [
        {
          "name": "stdout",
          "output_type": "stream",
          "text": [
            "Training the model\n",
            "Model: \"sequential_1\"\n",
            "_________________________________________________________________\n",
            " Layer (type)                Output Shape              Param #   \n",
            "=================================================================\n",
            " classification_head (Dense)  (None, 2)                2050      \n",
            "                                                                 \n",
            "=================================================================\n",
            "Total params: 2,050\n",
            "Trainable params: 2,050\n",
            "Non-trainable params: 0\n",
            "_________________________________________________________________\n",
            "Epoch 1/100\n",
            "3/3 [==============================] - 189s 21s/step - loss: 0.5882 - acc: 0.6899 - val_loss: 0.5565 - val_acc: 0.7722\n",
            "Epoch 2/100\n",
            "3/3 [==============================] - 0s 185ms/step - loss: 0.5552 - acc: 0.7184 - val_loss: 0.5271 - val_acc: 0.7848\n",
            "Epoch 3/100\n",
            "3/3 [==============================] - 0s 187ms/step - loss: 0.5182 - acc: 0.7785 - val_loss: 0.5018 - val_acc: 0.8101\n",
            "Epoch 4/100\n",
            "3/3 [==============================] - 0s 190ms/step - loss: 0.4765 - acc: 0.8354 - val_loss: 0.4799 - val_acc: 0.8101\n",
            "Epoch 5/100\n",
            "3/3 [==============================] - 0s 179ms/step - loss: 0.4721 - acc: 0.8165 - val_loss: 0.4609 - val_acc: 0.8481\n",
            "Epoch 6/100\n",
            "3/3 [==============================] - 0s 187ms/step - loss: 0.4382 - acc: 0.8544 - val_loss: 0.4447 - val_acc: 0.8354\n",
            "Epoch 7/100\n",
            "3/3 [==============================] - 0s 160ms/step - loss: 0.4308 - acc: 0.8323 - val_loss: 0.4303 - val_acc: 0.8354\n",
            "Epoch 8/100\n",
            "3/3 [==============================] - 0s 184ms/step - loss: 0.4036 - acc: 0.8734 - val_loss: 0.4174 - val_acc: 0.8481\n",
            "Epoch 9/100\n",
            "3/3 [==============================] - 0s 186ms/step - loss: 0.3802 - acc: 0.8924 - val_loss: 0.4066 - val_acc: 0.8354\n",
            "Epoch 10/100\n",
            "3/3 [==============================] - 0s 174ms/step - loss: 0.3850 - acc: 0.8608 - val_loss: 0.3966 - val_acc: 0.8481\n",
            "Epoch 11/100\n",
            "3/3 [==============================] - 0s 175ms/step - loss: 0.3649 - acc: 0.8766 - val_loss: 0.3880 - val_acc: 0.8481\n",
            "Epoch 12/100\n",
            "3/3 [==============================] - 0s 191ms/step - loss: 0.3591 - acc: 0.8671 - val_loss: 0.3797 - val_acc: 0.8481\n",
            "Epoch 13/100\n",
            "3/3 [==============================] - 0s 174ms/step - loss: 0.3557 - acc: 0.8892 - val_loss: 0.3725 - val_acc: 0.8608\n",
            "Epoch 14/100\n",
            "3/3 [==============================] - 0s 190ms/step - loss: 0.3351 - acc: 0.8766 - val_loss: 0.3666 - val_acc: 0.8608\n",
            "Epoch 15/100\n",
            "3/3 [==============================] - 0s 174ms/step - loss: 0.3209 - acc: 0.9051 - val_loss: 0.3614 - val_acc: 0.8608\n",
            "Epoch 16/100\n",
            "3/3 [==============================] - 0s 189ms/step - loss: 0.3229 - acc: 0.8892 - val_loss: 0.3556 - val_acc: 0.8734\n",
            "Epoch 17/100\n",
            "3/3 [==============================] - 0s 172ms/step - loss: 0.3123 - acc: 0.9019 - val_loss: 0.3507 - val_acc: 0.8734\n",
            "Epoch 18/100\n",
            "3/3 [==============================] - 0s 191ms/step - loss: 0.3038 - acc: 0.8924 - val_loss: 0.3463 - val_acc: 0.8734\n",
            "Epoch 19/100\n",
            "3/3 [==============================] - 0s 186ms/step - loss: 0.2898 - acc: 0.9019 - val_loss: 0.3422 - val_acc: 0.8734\n",
            "Epoch 20/100\n",
            "3/3 [==============================] - 0s 200ms/step - loss: 0.3004 - acc: 0.8956 - val_loss: 0.3384 - val_acc: 0.8734\n",
            "Epoch 21/100\n",
            "3/3 [==============================] - 0s 190ms/step - loss: 0.2797 - acc: 0.9114 - val_loss: 0.3349 - val_acc: 0.8734\n",
            "Epoch 22/100\n",
            "3/3 [==============================] - 0s 188ms/step - loss: 0.2799 - acc: 0.9051 - val_loss: 0.3317 - val_acc: 0.8734\n",
            "Epoch 23/100\n",
            "3/3 [==============================] - 0s 181ms/step - loss: 0.2841 - acc: 0.8956 - val_loss: 0.3291 - val_acc: 0.8734\n",
            "Epoch 24/100\n",
            "3/3 [==============================] - 0s 180ms/step - loss: 0.2780 - acc: 0.9177 - val_loss: 0.3270 - val_acc: 0.8734\n",
            "Epoch 25/100\n",
            "3/3 [==============================] - 0s 166ms/step - loss: 0.2694 - acc: 0.9177 - val_loss: 0.3252 - val_acc: 0.8861\n",
            "Epoch 26/100\n",
            "3/3 [==============================] - 0s 194ms/step - loss: 0.2713 - acc: 0.9114 - val_loss: 0.3234 - val_acc: 0.8861\n",
            "Epoch 27/100\n",
            "3/3 [==============================] - 0s 188ms/step - loss: 0.2625 - acc: 0.9177 - val_loss: 0.3212 - val_acc: 0.8861\n",
            "Epoch 28/100\n",
            "3/3 [==============================] - 0s 196ms/step - loss: 0.2688 - acc: 0.9051 - val_loss: 0.3189 - val_acc: 0.8861\n",
            "Epoch 29/100\n",
            "3/3 [==============================] - 0s 163ms/step - loss: 0.2630 - acc: 0.9019 - val_loss: 0.3164 - val_acc: 0.8861\n",
            "Epoch 30/100\n",
            "3/3 [==============================] - 0s 186ms/step - loss: 0.2554 - acc: 0.9209 - val_loss: 0.3140 - val_acc: 0.8861\n",
            "Epoch 31/100\n",
            "3/3 [==============================] - 0s 188ms/step - loss: 0.2585 - acc: 0.9019 - val_loss: 0.3120 - val_acc: 0.8734\n",
            "Epoch 32/100\n",
            "3/3 [==============================] - 1s 210ms/step - loss: 0.2437 - acc: 0.9272 - val_loss: 0.3105 - val_acc: 0.8734\n",
            "Epoch 33/100\n",
            "3/3 [==============================] - 0s 169ms/step - loss: 0.2392 - acc: 0.9272 - val_loss: 0.3091 - val_acc: 0.8734\n",
            "Epoch 34/100\n",
            "3/3 [==============================] - 0s 184ms/step - loss: 0.2526 - acc: 0.9209 - val_loss: 0.3081 - val_acc: 0.8734\n",
            "Epoch 35/100\n",
            "3/3 [==============================] - 0s 179ms/step - loss: 0.2417 - acc: 0.9019 - val_loss: 0.3072 - val_acc: 0.8861\n",
            "Epoch 36/100\n",
            "3/3 [==============================] - 0s 183ms/step - loss: 0.2379 - acc: 0.9177 - val_loss: 0.3062 - val_acc: 0.8861\n",
            "Epoch 37/100\n",
            "3/3 [==============================] - 0s 167ms/step - loss: 0.2285 - acc: 0.9241 - val_loss: 0.3050 - val_acc: 0.8861\n",
            "Epoch 38/100\n",
            "3/3 [==============================] - 0s 169ms/step - loss: 0.2343 - acc: 0.9304 - val_loss: 0.3041 - val_acc: 0.8861\n",
            "Epoch 39/100\n",
            "3/3 [==============================] - 0s 193ms/step - loss: 0.2387 - acc: 0.9177 - val_loss: 0.3031 - val_acc: 0.8861\n",
            "Epoch 40/100\n",
            "3/3 [==============================] - 0s 186ms/step - loss: 0.2305 - acc: 0.9335 - val_loss: 0.3020 - val_acc: 0.8861\n",
            "Epoch 41/100\n",
            "3/3 [==============================] - 0s 161ms/step - loss: 0.2278 - acc: 0.9082 - val_loss: 0.3005 - val_acc: 0.8861\n",
            "Epoch 42/100\n",
            "3/3 [==============================] - 0s 159ms/step - loss: 0.2305 - acc: 0.9304 - val_loss: 0.2995 - val_acc: 0.8861\n",
            "Epoch 43/100\n",
            "3/3 [==============================] - 0s 195ms/step - loss: 0.2162 - acc: 0.9335 - val_loss: 0.2984 - val_acc: 0.8861\n",
            "Epoch 44/100\n",
            "3/3 [==============================] - 0s 178ms/step - loss: 0.2127 - acc: 0.9304 - val_loss: 0.2976 - val_acc: 0.8861\n",
            "Epoch 45/100\n",
            "3/3 [==============================] - 0s 189ms/step - loss: 0.2248 - acc: 0.9335 - val_loss: 0.2970 - val_acc: 0.8861\n",
            "Epoch 46/100\n",
            "3/3 [==============================] - 0s 165ms/step - loss: 0.2126 - acc: 0.9399 - val_loss: 0.2961 - val_acc: 0.8861\n",
            "Epoch 47/100\n",
            "3/3 [==============================] - 0s 188ms/step - loss: 0.2168 - acc: 0.9272 - val_loss: 0.2951 - val_acc: 0.8861\n",
            "Epoch 48/100\n",
            "3/3 [==============================] - 0s 191ms/step - loss: 0.2094 - acc: 0.9304 - val_loss: 0.2943 - val_acc: 0.8861\n",
            "Epoch 49/100\n",
            "3/3 [==============================] - 0s 185ms/step - loss: 0.2078 - acc: 0.9399 - val_loss: 0.2935 - val_acc: 0.8861\n",
            "Epoch 50/100\n",
            "3/3 [==============================] - 0s 212ms/step - loss: 0.2052 - acc: 0.9367 - val_loss: 0.2929 - val_acc: 0.8861\n",
            "Epoch 51/100\n",
            "3/3 [==============================] - 0s 183ms/step - loss: 0.2044 - acc: 0.9430 - val_loss: 0.2923 - val_acc: 0.8987\n",
            "Epoch 52/100\n",
            "3/3 [==============================] - 0s 172ms/step - loss: 0.2178 - acc: 0.9304 - val_loss: 0.2918 - val_acc: 0.8987\n",
            "Epoch 53/100\n",
            "3/3 [==============================] - 0s 190ms/step - loss: 0.1971 - acc: 0.9335 - val_loss: 0.2912 - val_acc: 0.8987\n",
            "Epoch 54/100\n",
            "3/3 [==============================] - 0s 197ms/step - loss: 0.2066 - acc: 0.9272 - val_loss: 0.2908 - val_acc: 0.8987\n",
            "Epoch 55/100\n",
            "3/3 [==============================] - 0s 180ms/step - loss: 0.2137 - acc: 0.9241 - val_loss: 0.2905 - val_acc: 0.8861\n",
            "Epoch 56/100\n",
            "3/3 [==============================] - 0s 166ms/step - loss: 0.2016 - acc: 0.9367 - val_loss: 0.2903 - val_acc: 0.8861\n",
            "Epoch 57/100\n",
            "3/3 [==============================] - 0s 205ms/step - loss: 0.2018 - acc: 0.9335 - val_loss: 0.2902 - val_acc: 0.8861\n",
            "Epoch 58/100\n",
            "3/3 [==============================] - 0s 172ms/step - loss: 0.2050 - acc: 0.9399 - val_loss: 0.2901 - val_acc: 0.8861\n",
            "Epoch 59/100\n",
            "3/3 [==============================] - 0s 194ms/step - loss: 0.2000 - acc: 0.9462 - val_loss: 0.2899 - val_acc: 0.8861\n",
            "Epoch 60/100\n",
            "3/3 [==============================] - 0s 154ms/step - loss: 0.2035 - acc: 0.9241 - val_loss: 0.2893 - val_acc: 0.8861\n",
            "Epoch 61/100\n",
            "3/3 [==============================] - 0s 201ms/step - loss: 0.1911 - acc: 0.9399 - val_loss: 0.2889 - val_acc: 0.8861\n",
            "Epoch 62/100\n",
            "3/3 [==============================] - 0s 192ms/step - loss: 0.2039 - acc: 0.9367 - val_loss: 0.2885 - val_acc: 0.8987\n",
            "Epoch 63/100\n",
            "3/3 [==============================] - 0s 183ms/step - loss: 0.1927 - acc: 0.9272 - val_loss: 0.2882 - val_acc: 0.8987\n",
            "Epoch 64/100\n",
            "3/3 [==============================] - 0s 173ms/step - loss: 0.1901 - acc: 0.9399 - val_loss: 0.2880 - val_acc: 0.8987\n",
            "Epoch 65/100\n",
            "3/3 [==============================] - 1s 201ms/step - loss: 0.1947 - acc: 0.9430 - val_loss: 0.2876 - val_acc: 0.8987\n",
            "Epoch 66/100\n",
            "3/3 [==============================] - 0s 174ms/step - loss: 0.2038 - acc: 0.9335 - val_loss: 0.2874 - val_acc: 0.8987\n",
            "Epoch 67/100\n",
            "3/3 [==============================] - 0s 193ms/step - loss: 0.1992 - acc: 0.9399 - val_loss: 0.2872 - val_acc: 0.8987\n",
            "Epoch 68/100\n",
            "3/3 [==============================] - 0s 158ms/step - loss: 0.1879 - acc: 0.9304 - val_loss: 0.2870 - val_acc: 0.8987\n",
            "Epoch 69/100\n",
            "3/3 [==============================] - 0s 186ms/step - loss: 0.1990 - acc: 0.9272 - val_loss: 0.2868 - val_acc: 0.8987\n",
            "Epoch 70/100\n",
            "3/3 [==============================] - 0s 191ms/step - loss: 0.1787 - acc: 0.9525 - val_loss: 0.2865 - val_acc: 0.8987\n",
            "Epoch 71/100\n",
            "3/3 [==============================] - 0s 180ms/step - loss: 0.1873 - acc: 0.9399 - val_loss: 0.2863 - val_acc: 0.8987\n",
            "Epoch 72/100\n",
            "3/3 [==============================] - 0s 193ms/step - loss: 0.1970 - acc: 0.9209 - val_loss: 0.2862 - val_acc: 0.8987\n",
            "Epoch 73/100\n",
            "3/3 [==============================] - 0s 157ms/step - loss: 0.1900 - acc: 0.9304 - val_loss: 0.2862 - val_acc: 0.8987\n",
            "Epoch 74/100\n",
            "3/3 [==============================] - 0s 200ms/step - loss: 0.1923 - acc: 0.9304 - val_loss: 0.2860 - val_acc: 0.8987\n",
            "Epoch 75/100\n",
            "3/3 [==============================] - 0s 175ms/step - loss: 0.1812 - acc: 0.9335 - val_loss: 0.2858 - val_acc: 0.8987\n",
            "Epoch 76/100\n",
            "3/3 [==============================] - 0s 162ms/step - loss: 0.1755 - acc: 0.9430 - val_loss: 0.2857 - val_acc: 0.8987\n",
            "Epoch 77/100\n",
            "3/3 [==============================] - 0s 177ms/step - loss: 0.1870 - acc: 0.9367 - val_loss: 0.2856 - val_acc: 0.8987\n",
            "Epoch 78/100\n",
            "3/3 [==============================] - 0s 194ms/step - loss: 0.1808 - acc: 0.9367 - val_loss: 0.2856 - val_acc: 0.8987\n",
            "Epoch 79/100\n",
            "3/3 [==============================] - 0s 180ms/step - loss: 0.1823 - acc: 0.9462 - val_loss: 0.2856 - val_acc: 0.8861\n",
            "Epoch 80/100\n",
            "3/3 [==============================] - 0s 207ms/step - loss: 0.1783 - acc: 0.9494 - val_loss: 0.2856 - val_acc: 0.8861\n",
            "Epoch 81/100\n",
            "3/3 [==============================] - 0s 175ms/step - loss: 0.1739 - acc: 0.9399 - val_loss: 0.2855 - val_acc: 0.8861\n",
            "Epoch 82/100\n",
            "3/3 [==============================] - 0s 183ms/step - loss: 0.1782 - acc: 0.9367 - val_loss: 0.2852 - val_acc: 0.8987\n",
            "Epoch 83/100\n",
            "3/3 [==============================] - 0s 182ms/step - loss: 0.1839 - acc: 0.9241 - val_loss: 0.2849 - val_acc: 0.8987\n",
            "Epoch 84/100\n",
            "3/3 [==============================] - 0s 190ms/step - loss: 0.1662 - acc: 0.9462 - val_loss: 0.2848 - val_acc: 0.8987\n",
            "Epoch 85/100\n",
            "3/3 [==============================] - 0s 200ms/step - loss: 0.1694 - acc: 0.9399 - val_loss: 0.2846 - val_acc: 0.8987\n",
            "Epoch 86/100\n",
            "3/3 [==============================] - 0s 186ms/step - loss: 0.1686 - acc: 0.9367 - val_loss: 0.2844 - val_acc: 0.8987\n",
            "Epoch 87/100\n",
            "3/3 [==============================] - 0s 166ms/step - loss: 0.1775 - acc: 0.9430 - val_loss: 0.2842 - val_acc: 0.8987\n",
            "Epoch 88/100\n",
            "3/3 [==============================] - 1s 217ms/step - loss: 0.1672 - acc: 0.9367 - val_loss: 0.2839 - val_acc: 0.8987\n",
            "Epoch 89/100\n",
            "3/3 [==============================] - 0s 187ms/step - loss: 0.1682 - acc: 0.9399 - val_loss: 0.2836 - val_acc: 0.8987\n",
            "Epoch 90/100\n",
            "3/3 [==============================] - 0s 182ms/step - loss: 0.1740 - acc: 0.9367 - val_loss: 0.2833 - val_acc: 0.8987\n",
            "Epoch 91/100\n",
            "3/3 [==============================] - 0s 179ms/step - loss: 0.1744 - acc: 0.9399 - val_loss: 0.2831 - val_acc: 0.8987\n",
            "Epoch 92/100\n",
            "3/3 [==============================] - 0s 182ms/step - loss: 0.1859 - acc: 0.9494 - val_loss: 0.2832 - val_acc: 0.8987\n",
            "Epoch 93/100\n",
            "3/3 [==============================] - 1s 211ms/step - loss: 0.1619 - acc: 0.9430 - val_loss: 0.2832 - val_acc: 0.8861\n",
            "Epoch 94/100\n",
            "3/3 [==============================] - 0s 192ms/step - loss: 0.1699 - acc: 0.9430 - val_loss: 0.2826 - val_acc: 0.8987\n",
            "Epoch 95/100\n",
            "3/3 [==============================] - 0s 153ms/step - loss: 0.1562 - acc: 0.9462 - val_loss: 0.2818 - val_acc: 0.8987\n",
            "Epoch 96/100\n",
            "3/3 [==============================] - 0s 200ms/step - loss: 0.1779 - acc: 0.9335 - val_loss: 0.2814 - val_acc: 0.8987\n",
            "Epoch 97/100\n",
            "3/3 [==============================] - 0s 157ms/step - loss: 0.1607 - acc: 0.9430 - val_loss: 0.2812 - val_acc: 0.8987\n",
            "Epoch 98/100\n",
            "3/3 [==============================] - 0s 175ms/step - loss: 0.1726 - acc: 0.9399 - val_loss: 0.2811 - val_acc: 0.8987\n",
            "Epoch 99/100\n",
            "3/3 [==============================] - 0s 169ms/step - loss: 0.1690 - acc: 0.9430 - val_loss: 0.2811 - val_acc: 0.8987\n",
            "Epoch 100/100\n",
            "3/3 [==============================] - 1s 206ms/step - loss: 0.1576 - acc: 0.9462 - val_loss: 0.2810 - val_acc: 0.8987\n",
            "CPU times: user 7min 7s, sys: 6.01 s, total: 7min 13s\n",
            "Wall time: 4min 17s\n"
          ]
        }
      ],
      "source": [
        "%%time\n",
        "batch_size = 128\n",
        "epochs = 100\n",
        "\n",
        "print('Training the model')\n",
        "model = audio_classifier.create(\n",
        "    train_data,\n",
        "    spec,\n",
        "    validation_data,\n",
        "    batch_size=batch_size,\n",
        "    epochs=epochs)"
      ]
    },
    {
      "cell_type": "code",
      "execution_count": 9,
      "metadata": {
        "colab": {
          "base_uri": "https://localhost:8080/"
        },
        "id": "n0tWR1mUYPzq",
        "outputId": "c8f5b8b6-4904-4344-9806-b1467776985c"
      },
      "outputs": [
        {
          "name": "stdout",
          "output_type": "stream",
          "text": [
            "Evaluating the model\n",
            "1/1 [==============================] - 16s 16s/step - loss: 0.3310 - acc: 0.9091\n"
          ]
        },
        {
          "data": {
            "text/plain": [
              "[0.3309602439403534, 0.9090909361839294]"
            ]
          },
          "execution_count": 9,
          "metadata": {},
          "output_type": "execute_result"
        }
      ],
      "source": [
        "print('Evaluating the model')\n",
        "model.evaluate(test_data)"
      ]
    },
    {
      "cell_type": "code",
      "execution_count": 10,
      "metadata": {
        "colab": {
          "base_uri": "https://localhost:8080/",
          "height": 295
        },
        "id": "D8S6lUAvYfTQ",
        "outputId": "b7fe82db-cb0e-436b-c4d0-96b082b26c8b"
      },
      "outputs": [
        {
          "data": {
            "image/png": "[encoded data removed]",
            "text/plain": [
              "<Figure size 432x288 with 2 Axes>"
            ]
          },
          "metadata": {
            "needs_background": "light"
          },
          "output_type": "display_data"
        }
      ],
      "source": [
        "def show_confusion_matrix(confusion, test_labels):\n",
        "  \"\"\"Compute confusion matrix and normalize.\"\"\"\n",
        "  confusion_normalized = confusion.astype(\"float\") / confusion.sum(axis=1)\n",
        "  axis_labels = test_labels\n",
        "  ax = sns.heatmap(\n",
        "      confusion_normalized, xticklabels=axis_labels, yticklabels=axis_labels,\n",
        "      cmap='Blues', annot=True, fmt='.2f', square=True)\n",
        "  plt.title(\"Confusion matrix\")\n",
        "  plt.ylabel(\"True label\")\n",
        "  plt.xlabel(\"Predicted label\")\n",
        "\n",
        "confusion_matrix = model.confusion_matrix(test_data)\n",
        "show_confusion_matrix(confusion_matrix.numpy(), test_data.index_to_label)"
      ]
    }
  ],
  "metadata": {
    "colab": {
      "name": "Pre-trained(YAMNet).ipynb",
      "provenance": []
    },
    "kernelspec": {
      "display_name": "Python 3",
      "name": "python3"
    },
    "language_info": {
      "name": "python"
    }
  },
  "nbformat": 4,
  "nbformat_minor": 0
}
